{
 "cells": [
  {
   "cell_type": "code",
   "execution_count": 1,
   "metadata": {},
   "outputs": [],
   "source": [
    "import warnings \n",
    "warnings.filterwarnings('ignore')\n",
    "\n",
    "import pandas as pd\n",
    "import numpy as np\n",
    "import matplotlib.pyplot as plt\n",
    "import seaborn as sns"
   ]
  },
  {
   "cell_type": "code",
   "execution_count": 2,
   "metadata": {},
   "outputs": [
    {
     "data": {
      "text/html": [
       "<div>\n",
       "<style scoped>\n",
       "    .dataframe tbody tr th:only-of-type {\n",
       "        vertical-align: middle;\n",
       "    }\n",
       "\n",
       "    .dataframe tbody tr th {\n",
       "        vertical-align: top;\n",
       "    }\n",
       "\n",
       "    .dataframe thead th {\n",
       "        text-align: right;\n",
       "    }\n",
       "</style>\n",
       "<table border=\"1\" class=\"dataframe\">\n",
       "  <thead>\n",
       "    <tr style=\"text-align: right;\">\n",
       "      <th></th>\n",
       "      <th>Unnamed: 0</th>\n",
       "      <th>label</th>\n",
       "      <th>msisdn</th>\n",
       "      <th>aon</th>\n",
       "      <th>daily_decr30</th>\n",
       "      <th>daily_decr90</th>\n",
       "      <th>rental30</th>\n",
       "      <th>rental90</th>\n",
       "      <th>last_rech_date_ma</th>\n",
       "      <th>last_rech_date_da</th>\n",
       "      <th>...</th>\n",
       "      <th>maxamnt_loans30</th>\n",
       "      <th>medianamnt_loans30</th>\n",
       "      <th>cnt_loans90</th>\n",
       "      <th>amnt_loans90</th>\n",
       "      <th>maxamnt_loans90</th>\n",
       "      <th>medianamnt_loans90</th>\n",
       "      <th>payback30</th>\n",
       "      <th>payback90</th>\n",
       "      <th>pcircle</th>\n",
       "      <th>pdate</th>\n",
       "    </tr>\n",
       "  </thead>\n",
       "  <tbody>\n",
       "    <tr>\n",
       "      <th>0</th>\n",
       "      <td>1</td>\n",
       "      <td>0</td>\n",
       "      <td>21408I70789</td>\n",
       "      <td>272.0</td>\n",
       "      <td>3055.050000</td>\n",
       "      <td>3065.150000</td>\n",
       "      <td>220.13</td>\n",
       "      <td>260.13</td>\n",
       "      <td>2.0</td>\n",
       "      <td>0.0</td>\n",
       "      <td>...</td>\n",
       "      <td>6.0</td>\n",
       "      <td>0.0</td>\n",
       "      <td>2.0</td>\n",
       "      <td>12</td>\n",
       "      <td>6</td>\n",
       "      <td>0.0</td>\n",
       "      <td>29.000000</td>\n",
       "      <td>29.000000</td>\n",
       "      <td>UPW</td>\n",
       "      <td>2016-07-20</td>\n",
       "    </tr>\n",
       "    <tr>\n",
       "      <th>1</th>\n",
       "      <td>2</td>\n",
       "      <td>1</td>\n",
       "      <td>76462I70374</td>\n",
       "      <td>712.0</td>\n",
       "      <td>12122.000000</td>\n",
       "      <td>12124.750000</td>\n",
       "      <td>3691.26</td>\n",
       "      <td>3691.26</td>\n",
       "      <td>20.0</td>\n",
       "      <td>0.0</td>\n",
       "      <td>...</td>\n",
       "      <td>12.0</td>\n",
       "      <td>0.0</td>\n",
       "      <td>1.0</td>\n",
       "      <td>12</td>\n",
       "      <td>12</td>\n",
       "      <td>0.0</td>\n",
       "      <td>0.000000</td>\n",
       "      <td>0.000000</td>\n",
       "      <td>UPW</td>\n",
       "      <td>2016-08-10</td>\n",
       "    </tr>\n",
       "    <tr>\n",
       "      <th>2</th>\n",
       "      <td>3</td>\n",
       "      <td>1</td>\n",
       "      <td>17943I70372</td>\n",
       "      <td>535.0</td>\n",
       "      <td>1398.000000</td>\n",
       "      <td>1398.000000</td>\n",
       "      <td>900.13</td>\n",
       "      <td>900.13</td>\n",
       "      <td>3.0</td>\n",
       "      <td>0.0</td>\n",
       "      <td>...</td>\n",
       "      <td>6.0</td>\n",
       "      <td>0.0</td>\n",
       "      <td>1.0</td>\n",
       "      <td>6</td>\n",
       "      <td>6</td>\n",
       "      <td>0.0</td>\n",
       "      <td>0.000000</td>\n",
       "      <td>0.000000</td>\n",
       "      <td>UPW</td>\n",
       "      <td>2016-08-19</td>\n",
       "    </tr>\n",
       "    <tr>\n",
       "      <th>3</th>\n",
       "      <td>4</td>\n",
       "      <td>1</td>\n",
       "      <td>55773I70781</td>\n",
       "      <td>241.0</td>\n",
       "      <td>21.228000</td>\n",
       "      <td>21.228000</td>\n",
       "      <td>159.42</td>\n",
       "      <td>159.42</td>\n",
       "      <td>41.0</td>\n",
       "      <td>0.0</td>\n",
       "      <td>...</td>\n",
       "      <td>6.0</td>\n",
       "      <td>0.0</td>\n",
       "      <td>2.0</td>\n",
       "      <td>12</td>\n",
       "      <td>6</td>\n",
       "      <td>0.0</td>\n",
       "      <td>0.000000</td>\n",
       "      <td>0.000000</td>\n",
       "      <td>UPW</td>\n",
       "      <td>2016-06-06</td>\n",
       "    </tr>\n",
       "    <tr>\n",
       "      <th>4</th>\n",
       "      <td>5</td>\n",
       "      <td>1</td>\n",
       "      <td>03813I82730</td>\n",
       "      <td>947.0</td>\n",
       "      <td>150.619333</td>\n",
       "      <td>150.619333</td>\n",
       "      <td>1098.90</td>\n",
       "      <td>1098.90</td>\n",
       "      <td>4.0</td>\n",
       "      <td>0.0</td>\n",
       "      <td>...</td>\n",
       "      <td>6.0</td>\n",
       "      <td>0.0</td>\n",
       "      <td>7.0</td>\n",
       "      <td>42</td>\n",
       "      <td>6</td>\n",
       "      <td>0.0</td>\n",
       "      <td>2.333333</td>\n",
       "      <td>2.333333</td>\n",
       "      <td>UPW</td>\n",
       "      <td>2016-06-22</td>\n",
       "    </tr>\n",
       "  </tbody>\n",
       "</table>\n",
       "<p>5 rows × 37 columns</p>\n",
       "</div>"
      ],
      "text/plain": [
       "   Unnamed: 0  label       msisdn    aon  daily_decr30  daily_decr90  \\\n",
       "0           1      0  21408I70789  272.0   3055.050000   3065.150000   \n",
       "1           2      1  76462I70374  712.0  12122.000000  12124.750000   \n",
       "2           3      1  17943I70372  535.0   1398.000000   1398.000000   \n",
       "3           4      1  55773I70781  241.0     21.228000     21.228000   \n",
       "4           5      1  03813I82730  947.0    150.619333    150.619333   \n",
       "\n",
       "   rental30  rental90  last_rech_date_ma  last_rech_date_da  ...  \\\n",
       "0    220.13    260.13                2.0                0.0  ...   \n",
       "1   3691.26   3691.26               20.0                0.0  ...   \n",
       "2    900.13    900.13                3.0                0.0  ...   \n",
       "3    159.42    159.42               41.0                0.0  ...   \n",
       "4   1098.90   1098.90                4.0                0.0  ...   \n",
       "\n",
       "   maxamnt_loans30  medianamnt_loans30  cnt_loans90  amnt_loans90  \\\n",
       "0              6.0                 0.0          2.0            12   \n",
       "1             12.0                 0.0          1.0            12   \n",
       "2              6.0                 0.0          1.0             6   \n",
       "3              6.0                 0.0          2.0            12   \n",
       "4              6.0                 0.0          7.0            42   \n",
       "\n",
       "   maxamnt_loans90  medianamnt_loans90  payback30  payback90  pcircle  \\\n",
       "0                6                 0.0  29.000000  29.000000      UPW   \n",
       "1               12                 0.0   0.000000   0.000000      UPW   \n",
       "2                6                 0.0   0.000000   0.000000      UPW   \n",
       "3                6                 0.0   0.000000   0.000000      UPW   \n",
       "4                6                 0.0   2.333333   2.333333      UPW   \n",
       "\n",
       "        pdate  \n",
       "0  2016-07-20  \n",
       "1  2016-08-10  \n",
       "2  2016-08-19  \n",
       "3  2016-06-06  \n",
       "4  2016-06-22  \n",
       "\n",
       "[5 rows x 37 columns]"
      ]
     },
     "execution_count": 2,
     "metadata": {},
     "output_type": "execute_result"
    }
   ],
   "source": [
    "data=pd.read_csv('Data file.csv')\n",
    "data.head()"
   ]
  },
  {
   "cell_type": "code",
   "execution_count": 3,
   "metadata": {},
   "outputs": [],
   "source": [
    "data.drop(columns=['Unnamed: 0'],inplace=True)"
   ]
  },
  {
   "cell_type": "code",
   "execution_count": 4,
   "metadata": {},
   "outputs": [
    {
     "data": {
      "text/plain": [
       "(209593, 36)"
      ]
     },
     "execution_count": 4,
     "metadata": {},
     "output_type": "execute_result"
    }
   ],
   "source": [
    "data.shape"
   ]
  },
  {
   "cell_type": "code",
   "execution_count": 5,
   "metadata": {},
   "outputs": [
    {
     "data": {
      "text/html": [
       "<div>\n",
       "<style scoped>\n",
       "    .dataframe tbody tr th:only-of-type {\n",
       "        vertical-align: middle;\n",
       "    }\n",
       "\n",
       "    .dataframe tbody tr th {\n",
       "        vertical-align: top;\n",
       "    }\n",
       "\n",
       "    .dataframe thead th {\n",
       "        text-align: right;\n",
       "    }\n",
       "</style>\n",
       "<table border=\"1\" class=\"dataframe\">\n",
       "  <thead>\n",
       "    <tr style=\"text-align: right;\">\n",
       "      <th></th>\n",
       "      <th>label</th>\n",
       "      <th>msisdn</th>\n",
       "      <th>aon</th>\n",
       "      <th>daily_decr30</th>\n",
       "      <th>daily_decr90</th>\n",
       "      <th>rental30</th>\n",
       "      <th>rental90</th>\n",
       "      <th>last_rech_date_ma</th>\n",
       "      <th>last_rech_date_da</th>\n",
       "      <th>last_rech_amt_ma</th>\n",
       "      <th>...</th>\n",
       "      <th>maxamnt_loans30</th>\n",
       "      <th>medianamnt_loans30</th>\n",
       "      <th>cnt_loans90</th>\n",
       "      <th>amnt_loans90</th>\n",
       "      <th>maxamnt_loans90</th>\n",
       "      <th>medianamnt_loans90</th>\n",
       "      <th>payback30</th>\n",
       "      <th>payback90</th>\n",
       "      <th>pcircle</th>\n",
       "      <th>pdate</th>\n",
       "    </tr>\n",
       "  </thead>\n",
       "  <tbody>\n",
       "    <tr>\n",
       "      <th>0</th>\n",
       "      <td>0</td>\n",
       "      <td>21408I70789</td>\n",
       "      <td>272.0</td>\n",
       "      <td>3055.050000</td>\n",
       "      <td>3065.150000</td>\n",
       "      <td>220.13</td>\n",
       "      <td>260.13</td>\n",
       "      <td>2.0</td>\n",
       "      <td>0.0</td>\n",
       "      <td>1539</td>\n",
       "      <td>...</td>\n",
       "      <td>6.0</td>\n",
       "      <td>0.0</td>\n",
       "      <td>2.0</td>\n",
       "      <td>12</td>\n",
       "      <td>6</td>\n",
       "      <td>0.0</td>\n",
       "      <td>29.000000</td>\n",
       "      <td>29.000000</td>\n",
       "      <td>UPW</td>\n",
       "      <td>2016-07-20</td>\n",
       "    </tr>\n",
       "    <tr>\n",
       "      <th>1</th>\n",
       "      <td>1</td>\n",
       "      <td>76462I70374</td>\n",
       "      <td>712.0</td>\n",
       "      <td>12122.000000</td>\n",
       "      <td>12124.750000</td>\n",
       "      <td>3691.26</td>\n",
       "      <td>3691.26</td>\n",
       "      <td>20.0</td>\n",
       "      <td>0.0</td>\n",
       "      <td>5787</td>\n",
       "      <td>...</td>\n",
       "      <td>12.0</td>\n",
       "      <td>0.0</td>\n",
       "      <td>1.0</td>\n",
       "      <td>12</td>\n",
       "      <td>12</td>\n",
       "      <td>0.0</td>\n",
       "      <td>0.000000</td>\n",
       "      <td>0.000000</td>\n",
       "      <td>UPW</td>\n",
       "      <td>2016-08-10</td>\n",
       "    </tr>\n",
       "    <tr>\n",
       "      <th>2</th>\n",
       "      <td>1</td>\n",
       "      <td>17943I70372</td>\n",
       "      <td>535.0</td>\n",
       "      <td>1398.000000</td>\n",
       "      <td>1398.000000</td>\n",
       "      <td>900.13</td>\n",
       "      <td>900.13</td>\n",
       "      <td>3.0</td>\n",
       "      <td>0.0</td>\n",
       "      <td>1539</td>\n",
       "      <td>...</td>\n",
       "      <td>6.0</td>\n",
       "      <td>0.0</td>\n",
       "      <td>1.0</td>\n",
       "      <td>6</td>\n",
       "      <td>6</td>\n",
       "      <td>0.0</td>\n",
       "      <td>0.000000</td>\n",
       "      <td>0.000000</td>\n",
       "      <td>UPW</td>\n",
       "      <td>2016-08-19</td>\n",
       "    </tr>\n",
       "    <tr>\n",
       "      <th>3</th>\n",
       "      <td>1</td>\n",
       "      <td>55773I70781</td>\n",
       "      <td>241.0</td>\n",
       "      <td>21.228000</td>\n",
       "      <td>21.228000</td>\n",
       "      <td>159.42</td>\n",
       "      <td>159.42</td>\n",
       "      <td>41.0</td>\n",
       "      <td>0.0</td>\n",
       "      <td>947</td>\n",
       "      <td>...</td>\n",
       "      <td>6.0</td>\n",
       "      <td>0.0</td>\n",
       "      <td>2.0</td>\n",
       "      <td>12</td>\n",
       "      <td>6</td>\n",
       "      <td>0.0</td>\n",
       "      <td>0.000000</td>\n",
       "      <td>0.000000</td>\n",
       "      <td>UPW</td>\n",
       "      <td>2016-06-06</td>\n",
       "    </tr>\n",
       "    <tr>\n",
       "      <th>4</th>\n",
       "      <td>1</td>\n",
       "      <td>03813I82730</td>\n",
       "      <td>947.0</td>\n",
       "      <td>150.619333</td>\n",
       "      <td>150.619333</td>\n",
       "      <td>1098.90</td>\n",
       "      <td>1098.90</td>\n",
       "      <td>4.0</td>\n",
       "      <td>0.0</td>\n",
       "      <td>2309</td>\n",
       "      <td>...</td>\n",
       "      <td>6.0</td>\n",
       "      <td>0.0</td>\n",
       "      <td>7.0</td>\n",
       "      <td>42</td>\n",
       "      <td>6</td>\n",
       "      <td>0.0</td>\n",
       "      <td>2.333333</td>\n",
       "      <td>2.333333</td>\n",
       "      <td>UPW</td>\n",
       "      <td>2016-06-22</td>\n",
       "    </tr>\n",
       "  </tbody>\n",
       "</table>\n",
       "<p>5 rows × 36 columns</p>\n",
       "</div>"
      ],
      "text/plain": [
       "   label       msisdn    aon  daily_decr30  daily_decr90  rental30  rental90  \\\n",
       "0      0  21408I70789  272.0   3055.050000   3065.150000    220.13    260.13   \n",
       "1      1  76462I70374  712.0  12122.000000  12124.750000   3691.26   3691.26   \n",
       "2      1  17943I70372  535.0   1398.000000   1398.000000    900.13    900.13   \n",
       "3      1  55773I70781  241.0     21.228000     21.228000    159.42    159.42   \n",
       "4      1  03813I82730  947.0    150.619333    150.619333   1098.90   1098.90   \n",
       "\n",
       "   last_rech_date_ma  last_rech_date_da  last_rech_amt_ma  ...  \\\n",
       "0                2.0                0.0              1539  ...   \n",
       "1               20.0                0.0              5787  ...   \n",
       "2                3.0                0.0              1539  ...   \n",
       "3               41.0                0.0               947  ...   \n",
       "4                4.0                0.0              2309  ...   \n",
       "\n",
       "   maxamnt_loans30  medianamnt_loans30  cnt_loans90  amnt_loans90  \\\n",
       "0              6.0                 0.0          2.0            12   \n",
       "1             12.0                 0.0          1.0            12   \n",
       "2              6.0                 0.0          1.0             6   \n",
       "3              6.0                 0.0          2.0            12   \n",
       "4              6.0                 0.0          7.0            42   \n",
       "\n",
       "   maxamnt_loans90  medianamnt_loans90  payback30  payback90  pcircle  \\\n",
       "0                6                 0.0  29.000000  29.000000      UPW   \n",
       "1               12                 0.0   0.000000   0.000000      UPW   \n",
       "2                6                 0.0   0.000000   0.000000      UPW   \n",
       "3                6                 0.0   0.000000   0.000000      UPW   \n",
       "4                6                 0.0   2.333333   2.333333      UPW   \n",
       "\n",
       "        pdate  \n",
       "0  2016-07-20  \n",
       "1  2016-08-10  \n",
       "2  2016-08-19  \n",
       "3  2016-06-06  \n",
       "4  2016-06-22  \n",
       "\n",
       "[5 rows x 36 columns]"
      ]
     },
     "execution_count": 5,
     "metadata": {},
     "output_type": "execute_result"
    }
   ],
   "source": [
    "data.head()"
   ]
  },
  {
   "cell_type": "markdown",
   "metadata": {},
   "source": [
    "#### Checking data types of each column"
   ]
  },
  {
   "cell_type": "code",
   "execution_count": 6,
   "metadata": {},
   "outputs": [
    {
     "data": {
      "text/plain": [
       "label                     int64\n",
       "msisdn                   object\n",
       "aon                     float64\n",
       "daily_decr30            float64\n",
       "daily_decr90            float64\n",
       "rental30                float64\n",
       "rental90                float64\n",
       "last_rech_date_ma       float64\n",
       "last_rech_date_da       float64\n",
       "last_rech_amt_ma          int64\n",
       "cnt_ma_rech30             int64\n",
       "fr_ma_rech30            float64\n",
       "sumamnt_ma_rech30       float64\n",
       "medianamnt_ma_rech30    float64\n",
       "medianmarechprebal30    float64\n",
       "cnt_ma_rech90             int64\n",
       "fr_ma_rech90              int64\n",
       "sumamnt_ma_rech90         int64\n",
       "medianamnt_ma_rech90    float64\n",
       "medianmarechprebal90    float64\n",
       "cnt_da_rech30           float64\n",
       "fr_da_rech30            float64\n",
       "cnt_da_rech90             int64\n",
       "fr_da_rech90              int64\n",
       "cnt_loans30               int64\n",
       "amnt_loans30              int64\n",
       "maxamnt_loans30         float64\n",
       "medianamnt_loans30      float64\n",
       "cnt_loans90             float64\n",
       "amnt_loans90              int64\n",
       "maxamnt_loans90           int64\n",
       "medianamnt_loans90      float64\n",
       "payback30               float64\n",
       "payback90               float64\n",
       "pcircle                  object\n",
       "pdate                    object\n",
       "dtype: object"
      ]
     },
     "execution_count": 6,
     "metadata": {},
     "output_type": "execute_result"
    }
   ],
   "source": [
    "data.dtypes"
   ]
  },
  {
   "cell_type": "code",
   "execution_count": 7,
   "metadata": {},
   "outputs": [
    {
     "data": {
      "text/plain": [
       "array([0, 1], dtype=int64)"
      ]
     },
     "execution_count": 7,
     "metadata": {},
     "output_type": "execute_result"
    }
   ],
   "source": [
    "data.label.unique()"
   ]
  },
  {
   "cell_type": "code",
   "execution_count": 8,
   "metadata": {},
   "outputs": [
    {
     "data": {
      "text/plain": [
       "0         21408I70789\n",
       "1         76462I70374\n",
       "2         17943I70372\n",
       "3         55773I70781\n",
       "4         03813I82730\n",
       "             ...     \n",
       "209588    22758I85348\n",
       "209589    95583I84455\n",
       "209590    28556I85350\n",
       "209591    59712I82733\n",
       "209592    65061I85339\n",
       "Name: msisdn, Length: 209593, dtype: object"
      ]
     },
     "execution_count": 8,
     "metadata": {},
     "output_type": "execute_result"
    }
   ],
   "source": [
    "data.msisdn"
   ]
  },
  {
   "cell_type": "markdown",
   "metadata": {},
   "source": [
    "- Removing mobile number of user column(msisdn) as it's not relevent input feature"
   ]
  },
  {
   "cell_type": "code",
   "execution_count": 9,
   "metadata": {},
   "outputs": [],
   "source": [
    "data.drop(columns=['msisdn'],inplace=True)"
   ]
  },
  {
   "cell_type": "markdown",
   "metadata": {},
   "source": [
    "#### Data Set Information"
   ]
  },
  {
   "cell_type": "code",
   "execution_count": 10,
   "metadata": {},
   "outputs": [
    {
     "name": "stdout",
     "output_type": "stream",
     "text": [
      "<class 'pandas.core.frame.DataFrame'>\n",
      "RangeIndex: 209593 entries, 0 to 209592\n",
      "Data columns (total 35 columns):\n",
      "label                   209593 non-null int64\n",
      "aon                     209593 non-null float64\n",
      "daily_decr30            209593 non-null float64\n",
      "daily_decr90            209593 non-null float64\n",
      "rental30                209593 non-null float64\n",
      "rental90                209593 non-null float64\n",
      "last_rech_date_ma       209593 non-null float64\n",
      "last_rech_date_da       209593 non-null float64\n",
      "last_rech_amt_ma        209593 non-null int64\n",
      "cnt_ma_rech30           209593 non-null int64\n",
      "fr_ma_rech30            209593 non-null float64\n",
      "sumamnt_ma_rech30       209593 non-null float64\n",
      "medianamnt_ma_rech30    209593 non-null float64\n",
      "medianmarechprebal30    209593 non-null float64\n",
      "cnt_ma_rech90           209593 non-null int64\n",
      "fr_ma_rech90            209593 non-null int64\n",
      "sumamnt_ma_rech90       209593 non-null int64\n",
      "medianamnt_ma_rech90    209593 non-null float64\n",
      "medianmarechprebal90    209593 non-null float64\n",
      "cnt_da_rech30           209593 non-null float64\n",
      "fr_da_rech30            209593 non-null float64\n",
      "cnt_da_rech90           209593 non-null int64\n",
      "fr_da_rech90            209593 non-null int64\n",
      "cnt_loans30             209593 non-null int64\n",
      "amnt_loans30            209593 non-null int64\n",
      "maxamnt_loans30         209593 non-null float64\n",
      "medianamnt_loans30      209593 non-null float64\n",
      "cnt_loans90             209593 non-null float64\n",
      "amnt_loans90            209593 non-null int64\n",
      "maxamnt_loans90         209593 non-null int64\n",
      "medianamnt_loans90      209593 non-null float64\n",
      "payback30               209593 non-null float64\n",
      "payback90               209593 non-null float64\n",
      "pcircle                 209593 non-null object\n",
      "pdate                   209593 non-null object\n",
      "dtypes: float64(21), int64(12), object(2)\n",
      "memory usage: 56.0+ MB\n"
     ]
    }
   ],
   "source": [
    "data.info()"
   ]
  },
  {
   "cell_type": "markdown",
   "metadata": {},
   "source": [
    "- There are object data types in two columns pcircle and pdate"
   ]
  },
  {
   "cell_type": "markdown",
   "metadata": {},
   "source": [
    "##### Droping pcircle and pdate column"
   ]
  },
  {
   "cell_type": "code",
   "execution_count": 11,
   "metadata": {},
   "outputs": [
    {
     "data": {
      "text/plain": [
       "(209593, 35)"
      ]
     },
     "execution_count": 11,
     "metadata": {},
     "output_type": "execute_result"
    }
   ],
   "source": [
    "data.shape"
   ]
  },
  {
   "cell_type": "code",
   "execution_count": 12,
   "metadata": {},
   "outputs": [
    {
     "data": {
      "text/plain": [
       "(209593, 33)"
      ]
     },
     "execution_count": 12,
     "metadata": {},
     "output_type": "execute_result"
    }
   ],
   "source": [
    "data.drop(columns=['pcircle','pdate'],inplace=True)\n",
    "data.shape"
   ]
  },
  {
   "cell_type": "markdown",
   "metadata": {},
   "source": [
    "#### Checking null values"
   ]
  },
  {
   "cell_type": "code",
   "execution_count": 13,
   "metadata": {},
   "outputs": [
    {
     "data": {
      "text/plain": [
       "label                   0\n",
       "aon                     0\n",
       "daily_decr30            0\n",
       "daily_decr90            0\n",
       "rental30                0\n",
       "rental90                0\n",
       "last_rech_date_ma       0\n",
       "last_rech_date_da       0\n",
       "last_rech_amt_ma        0\n",
       "cnt_ma_rech30           0\n",
       "fr_ma_rech30            0\n",
       "sumamnt_ma_rech30       0\n",
       "medianamnt_ma_rech30    0\n",
       "medianmarechprebal30    0\n",
       "cnt_ma_rech90           0\n",
       "fr_ma_rech90            0\n",
       "sumamnt_ma_rech90       0\n",
       "medianamnt_ma_rech90    0\n",
       "medianmarechprebal90    0\n",
       "cnt_da_rech30           0\n",
       "fr_da_rech30            0\n",
       "cnt_da_rech90           0\n",
       "fr_da_rech90            0\n",
       "cnt_loans30             0\n",
       "amnt_loans30            0\n",
       "maxamnt_loans30         0\n",
       "medianamnt_loans30      0\n",
       "cnt_loans90             0\n",
       "amnt_loans90            0\n",
       "maxamnt_loans90         0\n",
       "medianamnt_loans90      0\n",
       "payback30               0\n",
       "payback90               0\n",
       "dtype: int64"
      ]
     },
     "execution_count": 13,
     "metadata": {},
     "output_type": "execute_result"
    }
   ],
   "source": [
    "data.isnull().sum()"
   ]
  },
  {
   "cell_type": "markdown",
   "metadata": {},
   "source": [
    "- There is no null value present in any column"
   ]
  },
  {
   "cell_type": "markdown",
   "metadata": {},
   "source": [
    "#### Checking duplicated values"
   ]
  },
  {
   "cell_type": "code",
   "execution_count": 14,
   "metadata": {},
   "outputs": [
    {
     "data": {
      "text/plain": [
       "386"
      ]
     },
     "execution_count": 14,
     "metadata": {},
     "output_type": "execute_result"
    }
   ],
   "source": [
    "data.duplicated().sum()"
   ]
  },
  {
   "cell_type": "markdown",
   "metadata": {},
   "source": [
    "- Found there are 386 duplicated rows in this data set"
   ]
  },
  {
   "cell_type": "markdown",
   "metadata": {},
   "source": [
    "Checking the duplicated values"
   ]
  },
  {
   "cell_type": "code",
   "execution_count": 15,
   "metadata": {},
   "outputs": [
    {
     "data": {
      "text/plain": [
       "Int64Index([ 11514,  14537,  15494,  17038,  18328,  18605,  22330,  25796,\n",
       "             29751,  31413,\n",
       "            ...\n",
       "            206994, 207086, 207195, 207302, 207516, 207656, 208348, 208686,\n",
       "            208727, 209473],\n",
       "           dtype='int64', length=386)"
      ]
     },
     "execution_count": 15,
     "metadata": {},
     "output_type": "execute_result"
    }
   ],
   "source": [
    "duplicate_index=data[data.duplicated()==True].index\n",
    "duplicate_index"
   ]
  },
  {
   "cell_type": "code",
   "execution_count": 16,
   "metadata": {},
   "outputs": [
    {
     "name": "stdout",
     "output_type": "stream",
     "text": [
      "9306\n",
      "15494\n",
      "35769\n",
      "84642\n"
     ]
    }
   ],
   "source": [
    "for x in data.index:\n",
    "    if x==11514:\n",
    "        continue\n",
    "        \n",
    "    elif np.array_equal(data.iloc[x],data.iloc[11514]):\n",
    "        print(x)"
   ]
  },
  {
   "cell_type": "markdown",
   "metadata": {},
   "source": [
    "- Checking the duplicated values"
   ]
  },
  {
   "cell_type": "code",
   "execution_count": 17,
   "metadata": {},
   "outputs": [
    {
     "data": {
      "text/html": [
       "<div>\n",
       "<style scoped>\n",
       "    .dataframe tbody tr th:only-of-type {\n",
       "        vertical-align: middle;\n",
       "    }\n",
       "\n",
       "    .dataframe tbody tr th {\n",
       "        vertical-align: top;\n",
       "    }\n",
       "\n",
       "    .dataframe thead th {\n",
       "        text-align: right;\n",
       "    }\n",
       "</style>\n",
       "<table border=\"1\" class=\"dataframe\">\n",
       "  <thead>\n",
       "    <tr style=\"text-align: right;\">\n",
       "      <th></th>\n",
       "      <th>label</th>\n",
       "      <th>aon</th>\n",
       "      <th>daily_decr30</th>\n",
       "      <th>daily_decr90</th>\n",
       "      <th>rental30</th>\n",
       "      <th>rental90</th>\n",
       "      <th>last_rech_date_ma</th>\n",
       "      <th>last_rech_date_da</th>\n",
       "      <th>last_rech_amt_ma</th>\n",
       "      <th>cnt_ma_rech30</th>\n",
       "      <th>...</th>\n",
       "      <th>cnt_loans30</th>\n",
       "      <th>amnt_loans30</th>\n",
       "      <th>maxamnt_loans30</th>\n",
       "      <th>medianamnt_loans30</th>\n",
       "      <th>cnt_loans90</th>\n",
       "      <th>amnt_loans90</th>\n",
       "      <th>maxamnt_loans90</th>\n",
       "      <th>medianamnt_loans90</th>\n",
       "      <th>payback30</th>\n",
       "      <th>payback90</th>\n",
       "    </tr>\n",
       "  </thead>\n",
       "  <tbody>\n",
       "    <tr>\n",
       "      <th>9306</th>\n",
       "      <td>0</td>\n",
       "      <td>118.0</td>\n",
       "      <td>0.0</td>\n",
       "      <td>0.0</td>\n",
       "      <td>0.0</td>\n",
       "      <td>0.0</td>\n",
       "      <td>0.0</td>\n",
       "      <td>0.0</td>\n",
       "      <td>0</td>\n",
       "      <td>0</td>\n",
       "      <td>...</td>\n",
       "      <td>1</td>\n",
       "      <td>6</td>\n",
       "      <td>6.0</td>\n",
       "      <td>0.0</td>\n",
       "      <td>1.0</td>\n",
       "      <td>6</td>\n",
       "      <td>6</td>\n",
       "      <td>0.0</td>\n",
       "      <td>0.0</td>\n",
       "      <td>0.0</td>\n",
       "    </tr>\n",
       "  </tbody>\n",
       "</table>\n",
       "<p>1 rows × 33 columns</p>\n",
       "</div>"
      ],
      "text/plain": [
       "      label    aon  daily_decr30  daily_decr90  rental30  rental90  \\\n",
       "9306      0  118.0           0.0           0.0       0.0       0.0   \n",
       "\n",
       "      last_rech_date_ma  last_rech_date_da  last_rech_amt_ma  cnt_ma_rech30  \\\n",
       "9306                0.0                0.0                 0              0   \n",
       "\n",
       "      ...  cnt_loans30  amnt_loans30  maxamnt_loans30  medianamnt_loans30  \\\n",
       "9306  ...            1             6              6.0                 0.0   \n",
       "\n",
       "      cnt_loans90  amnt_loans90  maxamnt_loans90  medianamnt_loans90  \\\n",
       "9306          1.0             6                6                 0.0   \n",
       "\n",
       "      payback30  payback90  \n",
       "9306        0.0        0.0  \n",
       "\n",
       "[1 rows x 33 columns]"
      ]
     },
     "execution_count": 17,
     "metadata": {},
     "output_type": "execute_result"
    }
   ],
   "source": [
    "data.iloc[[9306]]"
   ]
  },
  {
   "cell_type": "code",
   "execution_count": 18,
   "metadata": {},
   "outputs": [
    {
     "data": {
      "text/html": [
       "<div>\n",
       "<style scoped>\n",
       "    .dataframe tbody tr th:only-of-type {\n",
       "        vertical-align: middle;\n",
       "    }\n",
       "\n",
       "    .dataframe tbody tr th {\n",
       "        vertical-align: top;\n",
       "    }\n",
       "\n",
       "    .dataframe thead th {\n",
       "        text-align: right;\n",
       "    }\n",
       "</style>\n",
       "<table border=\"1\" class=\"dataframe\">\n",
       "  <thead>\n",
       "    <tr style=\"text-align: right;\">\n",
       "      <th></th>\n",
       "      <th>label</th>\n",
       "      <th>aon</th>\n",
       "      <th>daily_decr30</th>\n",
       "      <th>daily_decr90</th>\n",
       "      <th>rental30</th>\n",
       "      <th>rental90</th>\n",
       "      <th>last_rech_date_ma</th>\n",
       "      <th>last_rech_date_da</th>\n",
       "      <th>last_rech_amt_ma</th>\n",
       "      <th>cnt_ma_rech30</th>\n",
       "      <th>...</th>\n",
       "      <th>cnt_loans30</th>\n",
       "      <th>amnt_loans30</th>\n",
       "      <th>maxamnt_loans30</th>\n",
       "      <th>medianamnt_loans30</th>\n",
       "      <th>cnt_loans90</th>\n",
       "      <th>amnt_loans90</th>\n",
       "      <th>maxamnt_loans90</th>\n",
       "      <th>medianamnt_loans90</th>\n",
       "      <th>payback30</th>\n",
       "      <th>payback90</th>\n",
       "    </tr>\n",
       "  </thead>\n",
       "  <tbody>\n",
       "    <tr>\n",
       "      <th>11514</th>\n",
       "      <td>0</td>\n",
       "      <td>118.0</td>\n",
       "      <td>0.0</td>\n",
       "      <td>0.0</td>\n",
       "      <td>0.0</td>\n",
       "      <td>0.0</td>\n",
       "      <td>0.0</td>\n",
       "      <td>0.0</td>\n",
       "      <td>0</td>\n",
       "      <td>0</td>\n",
       "      <td>...</td>\n",
       "      <td>1</td>\n",
       "      <td>6</td>\n",
       "      <td>6.0</td>\n",
       "      <td>0.0</td>\n",
       "      <td>1.0</td>\n",
       "      <td>6</td>\n",
       "      <td>6</td>\n",
       "      <td>0.0</td>\n",
       "      <td>0.0</td>\n",
       "      <td>0.0</td>\n",
       "    </tr>\n",
       "  </tbody>\n",
       "</table>\n",
       "<p>1 rows × 33 columns</p>\n",
       "</div>"
      ],
      "text/plain": [
       "       label    aon  daily_decr30  daily_decr90  rental30  rental90  \\\n",
       "11514      0  118.0           0.0           0.0       0.0       0.0   \n",
       "\n",
       "       last_rech_date_ma  last_rech_date_da  last_rech_amt_ma  cnt_ma_rech30  \\\n",
       "11514                0.0                0.0                 0              0   \n",
       "\n",
       "       ...  cnt_loans30  amnt_loans30  maxamnt_loans30  medianamnt_loans30  \\\n",
       "11514  ...            1             6              6.0                 0.0   \n",
       "\n",
       "       cnt_loans90  amnt_loans90  maxamnt_loans90  medianamnt_loans90  \\\n",
       "11514          1.0             6                6                 0.0   \n",
       "\n",
       "       payback30  payback90  \n",
       "11514        0.0        0.0  \n",
       "\n",
       "[1 rows x 33 columns]"
      ]
     },
     "execution_count": 18,
     "metadata": {},
     "output_type": "execute_result"
    }
   ],
   "source": [
    "data.iloc[[11514]]"
   ]
  },
  {
   "cell_type": "markdown",
   "metadata": {},
   "source": [
    "- Hence data set contains 386 duplicated rows we have to remove these duplicated row"
   ]
  },
  {
   "cell_type": "code",
   "execution_count": 19,
   "metadata": {},
   "outputs": [
    {
     "data": {
      "text/plain": [
       "99.8158335440592"
      ]
     },
     "execution_count": 19,
     "metadata": {},
     "output_type": "execute_result"
    }
   ],
   "source": [
    "(209593-386)/209593*100"
   ]
  },
  {
   "cell_type": "markdown",
   "metadata": {},
   "source": [
    "#### Removing duplicated rows from dataset"
   ]
  },
  {
   "cell_type": "code",
   "execution_count": 20,
   "metadata": {},
   "outputs": [],
   "source": [
    "data.drop_duplicates(inplace=True)"
   ]
  },
  {
   "cell_type": "code",
   "execution_count": 21,
   "metadata": {},
   "outputs": [
    {
     "data": {
      "text/plain": [
       "0"
      ]
     },
     "execution_count": 21,
     "metadata": {},
     "output_type": "execute_result"
    }
   ],
   "source": [
    "data.duplicated().sum()"
   ]
  },
  {
   "cell_type": "markdown",
   "metadata": {},
   "source": [
    "#### Statistical Describtion data"
   ]
  },
  {
   "cell_type": "code",
   "execution_count": 22,
   "metadata": {},
   "outputs": [
    {
     "data": {
      "text/html": [
       "<div>\n",
       "<style scoped>\n",
       "    .dataframe tbody tr th:only-of-type {\n",
       "        vertical-align: middle;\n",
       "    }\n",
       "\n",
       "    .dataframe tbody tr th {\n",
       "        vertical-align: top;\n",
       "    }\n",
       "\n",
       "    .dataframe thead th {\n",
       "        text-align: right;\n",
       "    }\n",
       "</style>\n",
       "<table border=\"1\" class=\"dataframe\">\n",
       "  <thead>\n",
       "    <tr style=\"text-align: right;\">\n",
       "      <th></th>\n",
       "      <th>label</th>\n",
       "      <th>aon</th>\n",
       "      <th>daily_decr30</th>\n",
       "      <th>daily_decr90</th>\n",
       "      <th>rental30</th>\n",
       "      <th>rental90</th>\n",
       "      <th>last_rech_date_ma</th>\n",
       "      <th>last_rech_date_da</th>\n",
       "      <th>last_rech_amt_ma</th>\n",
       "      <th>cnt_ma_rech30</th>\n",
       "      <th>fr_ma_rech30</th>\n",
       "      <th>sumamnt_ma_rech30</th>\n",
       "      <th>medianamnt_ma_rech30</th>\n",
       "      <th>medianmarechprebal30</th>\n",
       "      <th>cnt_ma_rech90</th>\n",
       "      <th>fr_ma_rech90</th>\n",
       "    </tr>\n",
       "  </thead>\n",
       "  <tbody>\n",
       "    <tr>\n",
       "      <th>count</th>\n",
       "      <td>209207.000000</td>\n",
       "      <td>209207.000000</td>\n",
       "      <td>209207.000000</td>\n",
       "      <td>209207.000000</td>\n",
       "      <td>209207.000000</td>\n",
       "      <td>209207.000000</td>\n",
       "      <td>209207.000000</td>\n",
       "      <td>209207.000000</td>\n",
       "      <td>209207.000000</td>\n",
       "      <td>209207.000000</td>\n",
       "      <td>209207.000000</td>\n",
       "      <td>209207.000000</td>\n",
       "      <td>209207.000000</td>\n",
       "      <td>209207.000000</td>\n",
       "      <td>209207.000000</td>\n",
       "      <td>209207.000000</td>\n",
       "    </tr>\n",
       "    <tr>\n",
       "      <th>mean</th>\n",
       "      <td>0.876715</td>\n",
       "      <td>8126.913916</td>\n",
       "      <td>5391.244370</td>\n",
       "      <td>6093.650746</td>\n",
       "      <td>2697.526834</td>\n",
       "      <td>3489.810579</td>\n",
       "      <td>3762.777569</td>\n",
       "      <td>3719.052167</td>\n",
       "      <td>2068.258161</td>\n",
       "      <td>3.985373</td>\n",
       "      <td>3744.250770</td>\n",
       "      <td>7718.675020</td>\n",
       "      <td>1816.155358</td>\n",
       "      <td>3859.034531</td>\n",
       "      <td>6.327059</td>\n",
       "      <td>7.731013</td>\n",
       "    </tr>\n",
       "    <tr>\n",
       "      <th>std</th>\n",
       "      <td>0.328764</td>\n",
       "      <td>75765.121261</td>\n",
       "      <td>9226.270853</td>\n",
       "      <td>10925.795977</td>\n",
       "      <td>4311.013689</td>\n",
       "      <td>5773.849370</td>\n",
       "      <td>53955.357784</td>\n",
       "      <td>53423.812523</td>\n",
       "      <td>2371.314219</td>\n",
       "      <td>4.256588</td>\n",
       "      <td>53692.850091</td>\n",
       "      <td>10143.578266</td>\n",
       "      <td>2071.312039</td>\n",
       "      <td>54055.920627</td>\n",
       "      <td>7.194994</td>\n",
       "      <td>12.597496</td>\n",
       "    </tr>\n",
       "    <tr>\n",
       "      <th>min</th>\n",
       "      <td>0.000000</td>\n",
       "      <td>-48.000000</td>\n",
       "      <td>-93.012667</td>\n",
       "      <td>-93.012667</td>\n",
       "      <td>-23737.140000</td>\n",
       "      <td>-24720.580000</td>\n",
       "      <td>-29.000000</td>\n",
       "      <td>-29.000000</td>\n",
       "      <td>0.000000</td>\n",
       "      <td>0.000000</td>\n",
       "      <td>0.000000</td>\n",
       "      <td>0.000000</td>\n",
       "      <td>0.000000</td>\n",
       "      <td>-200.000000</td>\n",
       "      <td>0.000000</td>\n",
       "      <td>0.000000</td>\n",
       "    </tr>\n",
       "    <tr>\n",
       "      <th>25%</th>\n",
       "      <td>1.000000</td>\n",
       "      <td>246.000000</td>\n",
       "      <td>42.891000</td>\n",
       "      <td>43.113167</td>\n",
       "      <td>284.130000</td>\n",
       "      <td>304.640000</td>\n",
       "      <td>1.000000</td>\n",
       "      <td>0.000000</td>\n",
       "      <td>770.000000</td>\n",
       "      <td>1.000000</td>\n",
       "      <td>0.000000</td>\n",
       "      <td>1543.000000</td>\n",
       "      <td>770.000000</td>\n",
       "      <td>11.000000</td>\n",
       "      <td>2.000000</td>\n",
       "      <td>0.000000</td>\n",
       "    </tr>\n",
       "    <tr>\n",
       "      <th>50%</th>\n",
       "      <td>1.000000</td>\n",
       "      <td>528.000000</td>\n",
       "      <td>1489.171333</td>\n",
       "      <td>1506.000000</td>\n",
       "      <td>1088.250000</td>\n",
       "      <td>1340.520000</td>\n",
       "      <td>3.000000</td>\n",
       "      <td>0.000000</td>\n",
       "      <td>1539.000000</td>\n",
       "      <td>3.000000</td>\n",
       "      <td>2.000000</td>\n",
       "      <td>4629.000000</td>\n",
       "      <td>1539.000000</td>\n",
       "      <td>34.000000</td>\n",
       "      <td>4.000000</td>\n",
       "      <td>2.000000</td>\n",
       "    </tr>\n",
       "    <tr>\n",
       "      <th>75%</th>\n",
       "      <td>1.000000</td>\n",
       "      <td>983.000000</td>\n",
       "      <td>7258.112667</td>\n",
       "      <td>7816.320000</td>\n",
       "      <td>3364.395000</td>\n",
       "      <td>4209.845000</td>\n",
       "      <td>7.000000</td>\n",
       "      <td>0.000000</td>\n",
       "      <td>2309.000000</td>\n",
       "      <td>5.000000</td>\n",
       "      <td>6.000000</td>\n",
       "      <td>10012.000000</td>\n",
       "      <td>1924.000000</td>\n",
       "      <td>83.200000</td>\n",
       "      <td>9.000000</td>\n",
       "      <td>8.000000</td>\n",
       "    </tr>\n",
       "    <tr>\n",
       "      <th>max</th>\n",
       "      <td>1.000000</td>\n",
       "      <td>999860.755168</td>\n",
       "      <td>265926.000000</td>\n",
       "      <td>320630.000000</td>\n",
       "      <td>198926.110000</td>\n",
       "      <td>200148.110000</td>\n",
       "      <td>998650.377733</td>\n",
       "      <td>999171.809410</td>\n",
       "      <td>55000.000000</td>\n",
       "      <td>203.000000</td>\n",
       "      <td>999606.368132</td>\n",
       "      <td>810096.000000</td>\n",
       "      <td>55000.000000</td>\n",
       "      <td>999479.419319</td>\n",
       "      <td>336.000000</td>\n",
       "      <td>88.000000</td>\n",
       "    </tr>\n",
       "  </tbody>\n",
       "</table>\n",
       "</div>"
      ],
      "text/plain": [
       "               label            aon   daily_decr30   daily_decr90  \\\n",
       "count  209207.000000  209207.000000  209207.000000  209207.000000   \n",
       "mean        0.876715    8126.913916    5391.244370    6093.650746   \n",
       "std         0.328764   75765.121261    9226.270853   10925.795977   \n",
       "min         0.000000     -48.000000     -93.012667     -93.012667   \n",
       "25%         1.000000     246.000000      42.891000      43.113167   \n",
       "50%         1.000000     528.000000    1489.171333    1506.000000   \n",
       "75%         1.000000     983.000000    7258.112667    7816.320000   \n",
       "max         1.000000  999860.755168  265926.000000  320630.000000   \n",
       "\n",
       "            rental30       rental90  last_rech_date_ma  last_rech_date_da  \\\n",
       "count  209207.000000  209207.000000      209207.000000      209207.000000   \n",
       "mean     2697.526834    3489.810579        3762.777569        3719.052167   \n",
       "std      4311.013689    5773.849370       53955.357784       53423.812523   \n",
       "min    -23737.140000  -24720.580000         -29.000000         -29.000000   \n",
       "25%       284.130000     304.640000           1.000000           0.000000   \n",
       "50%      1088.250000    1340.520000           3.000000           0.000000   \n",
       "75%      3364.395000    4209.845000           7.000000           0.000000   \n",
       "max    198926.110000  200148.110000      998650.377733      999171.809410   \n",
       "\n",
       "       last_rech_amt_ma  cnt_ma_rech30   fr_ma_rech30  sumamnt_ma_rech30  \\\n",
       "count     209207.000000  209207.000000  209207.000000      209207.000000   \n",
       "mean        2068.258161       3.985373    3744.250770        7718.675020   \n",
       "std         2371.314219       4.256588   53692.850091       10143.578266   \n",
       "min            0.000000       0.000000       0.000000           0.000000   \n",
       "25%          770.000000       1.000000       0.000000        1543.000000   \n",
       "50%         1539.000000       3.000000       2.000000        4629.000000   \n",
       "75%         2309.000000       5.000000       6.000000       10012.000000   \n",
       "max        55000.000000     203.000000  999606.368132      810096.000000   \n",
       "\n",
       "       medianamnt_ma_rech30  medianmarechprebal30  cnt_ma_rech90  \\\n",
       "count         209207.000000         209207.000000  209207.000000   \n",
       "mean            1816.155358           3859.034531       6.327059   \n",
       "std             2071.312039          54055.920627       7.194994   \n",
       "min                0.000000           -200.000000       0.000000   \n",
       "25%              770.000000             11.000000       2.000000   \n",
       "50%             1539.000000             34.000000       4.000000   \n",
       "75%             1924.000000             83.200000       9.000000   \n",
       "max            55000.000000         999479.419319     336.000000   \n",
       "\n",
       "        fr_ma_rech90  \n",
       "count  209207.000000  \n",
       "mean        7.731013  \n",
       "std        12.597496  \n",
       "min         0.000000  \n",
       "25%         0.000000  \n",
       "50%         2.000000  \n",
       "75%         8.000000  \n",
       "max        88.000000  "
      ]
     },
     "execution_count": 22,
     "metadata": {},
     "output_type": "execute_result"
    }
   ],
   "source": [
    "data.describe().iloc[:,:16]"
   ]
  },
  {
   "cell_type": "code",
   "execution_count": 23,
   "metadata": {},
   "outputs": [
    {
     "data": {
      "text/html": [
       "<div>\n",
       "<style scoped>\n",
       "    .dataframe tbody tr th:only-of-type {\n",
       "        vertical-align: middle;\n",
       "    }\n",
       "\n",
       "    .dataframe tbody tr th {\n",
       "        vertical-align: top;\n",
       "    }\n",
       "\n",
       "    .dataframe thead th {\n",
       "        text-align: right;\n",
       "    }\n",
       "</style>\n",
       "<table border=\"1\" class=\"dataframe\">\n",
       "  <thead>\n",
       "    <tr style=\"text-align: right;\">\n",
       "      <th></th>\n",
       "      <th>sumamnt_ma_rech90</th>\n",
       "      <th>medianamnt_ma_rech90</th>\n",
       "      <th>medianmarechprebal90</th>\n",
       "      <th>cnt_da_rech30</th>\n",
       "      <th>fr_da_rech30</th>\n",
       "      <th>cnt_da_rech90</th>\n",
       "      <th>fr_da_rech90</th>\n",
       "      <th>cnt_loans30</th>\n",
       "      <th>amnt_loans30</th>\n",
       "      <th>maxamnt_loans30</th>\n",
       "      <th>medianamnt_loans30</th>\n",
       "      <th>cnt_loans90</th>\n",
       "      <th>amnt_loans90</th>\n",
       "      <th>maxamnt_loans90</th>\n",
       "      <th>medianamnt_loans90</th>\n",
       "      <th>payback30</th>\n",
       "      <th>payback90</th>\n",
       "    </tr>\n",
       "  </thead>\n",
       "  <tbody>\n",
       "    <tr>\n",
       "      <th>count</th>\n",
       "      <td>209207.000000</td>\n",
       "      <td>209207.000000</td>\n",
       "      <td>209207.000000</td>\n",
       "      <td>209207.000000</td>\n",
       "      <td>209207.000000</td>\n",
       "      <td>209207.000000</td>\n",
       "      <td>209207.000000</td>\n",
       "      <td>209207.000000</td>\n",
       "      <td>209207.000000</td>\n",
       "      <td>209207.000000</td>\n",
       "      <td>209207.000000</td>\n",
       "      <td>209207.000000</td>\n",
       "      <td>209207.000000</td>\n",
       "      <td>209207.000000</td>\n",
       "      <td>209207.000000</td>\n",
       "      <td>209207.000000</td>\n",
       "      <td>209207.000000</td>\n",
       "    </tr>\n",
       "    <tr>\n",
       "      <th>mean</th>\n",
       "      <td>12419.048727</td>\n",
       "      <td>1868.028761</td>\n",
       "      <td>92.194875</td>\n",
       "      <td>263.062583</td>\n",
       "      <td>3756.412498</td>\n",
       "      <td>0.041571</td>\n",
       "      <td>0.045797</td>\n",
       "      <td>2.762212</td>\n",
       "      <td>17.973987</td>\n",
       "      <td>275.154439</td>\n",
       "      <td>0.054128</td>\n",
       "      <td>18.553232</td>\n",
       "      <td>23.677869</td>\n",
       "      <td>6.704431</td>\n",
       "      <td>0.046162</td>\n",
       "      <td>3.404893</td>\n",
       "      <td>4.329254</td>\n",
       "    </tr>\n",
       "    <tr>\n",
       "      <th>std</th>\n",
       "      <td>16864.939318</td>\n",
       "      <td>2082.061320</td>\n",
       "      <td>369.534991</td>\n",
       "      <td>4187.740777</td>\n",
       "      <td>53934.862376</td>\n",
       "      <td>0.397918</td>\n",
       "      <td>0.952261</td>\n",
       "      <td>2.555741</td>\n",
       "      <td>17.388191</td>\n",
       "      <td>4249.163551</td>\n",
       "      <td>0.218227</td>\n",
       "      <td>225.003451</td>\n",
       "      <td>26.483434</td>\n",
       "      <td>2.105587</td>\n",
       "      <td>0.200867</td>\n",
       "      <td>8.820229</td>\n",
       "      <td>10.315602</td>\n",
       "    </tr>\n",
       "    <tr>\n",
       "      <th>min</th>\n",
       "      <td>0.000000</td>\n",
       "      <td>0.000000</td>\n",
       "      <td>-200.000000</td>\n",
       "      <td>0.000000</td>\n",
       "      <td>0.000000</td>\n",
       "      <td>0.000000</td>\n",
       "      <td>0.000000</td>\n",
       "      <td>0.000000</td>\n",
       "      <td>0.000000</td>\n",
       "      <td>0.000000</td>\n",
       "      <td>0.000000</td>\n",
       "      <td>0.000000</td>\n",
       "      <td>0.000000</td>\n",
       "      <td>0.000000</td>\n",
       "      <td>0.000000</td>\n",
       "      <td>0.000000</td>\n",
       "      <td>0.000000</td>\n",
       "    </tr>\n",
       "    <tr>\n",
       "      <th>25%</th>\n",
       "      <td>2319.000000</td>\n",
       "      <td>773.000000</td>\n",
       "      <td>14.820000</td>\n",
       "      <td>0.000000</td>\n",
       "      <td>0.000000</td>\n",
       "      <td>0.000000</td>\n",
       "      <td>0.000000</td>\n",
       "      <td>1.000000</td>\n",
       "      <td>6.000000</td>\n",
       "      <td>6.000000</td>\n",
       "      <td>0.000000</td>\n",
       "      <td>1.000000</td>\n",
       "      <td>6.000000</td>\n",
       "      <td>6.000000</td>\n",
       "      <td>0.000000</td>\n",
       "      <td>0.000000</td>\n",
       "      <td>0.000000</td>\n",
       "    </tr>\n",
       "    <tr>\n",
       "      <th>50%</th>\n",
       "      <td>7287.000000</td>\n",
       "      <td>1539.000000</td>\n",
       "      <td>36.000000</td>\n",
       "      <td>0.000000</td>\n",
       "      <td>0.000000</td>\n",
       "      <td>0.000000</td>\n",
       "      <td>0.000000</td>\n",
       "      <td>2.000000</td>\n",
       "      <td>12.000000</td>\n",
       "      <td>6.000000</td>\n",
       "      <td>0.000000</td>\n",
       "      <td>2.000000</td>\n",
       "      <td>12.000000</td>\n",
       "      <td>6.000000</td>\n",
       "      <td>0.000000</td>\n",
       "      <td>0.000000</td>\n",
       "      <td>1.666667</td>\n",
       "    </tr>\n",
       "    <tr>\n",
       "      <th>75%</th>\n",
       "      <td>16000.000000</td>\n",
       "      <td>1924.000000</td>\n",
       "      <td>79.500000</td>\n",
       "      <td>0.000000</td>\n",
       "      <td>0.000000</td>\n",
       "      <td>0.000000</td>\n",
       "      <td>0.000000</td>\n",
       "      <td>4.000000</td>\n",
       "      <td>24.000000</td>\n",
       "      <td>6.000000</td>\n",
       "      <td>0.000000</td>\n",
       "      <td>5.000000</td>\n",
       "      <td>30.000000</td>\n",
       "      <td>6.000000</td>\n",
       "      <td>0.000000</td>\n",
       "      <td>3.750000</td>\n",
       "      <td>4.500000</td>\n",
       "    </tr>\n",
       "    <tr>\n",
       "      <th>max</th>\n",
       "      <td>953036.000000</td>\n",
       "      <td>55000.000000</td>\n",
       "      <td>41456.500000</td>\n",
       "      <td>99914.441420</td>\n",
       "      <td>999809.240107</td>\n",
       "      <td>38.000000</td>\n",
       "      <td>64.000000</td>\n",
       "      <td>50.000000</td>\n",
       "      <td>306.000000</td>\n",
       "      <td>99864.560864</td>\n",
       "      <td>3.000000</td>\n",
       "      <td>4997.517944</td>\n",
       "      <td>438.000000</td>\n",
       "      <td>12.000000</td>\n",
       "      <td>3.000000</td>\n",
       "      <td>171.500000</td>\n",
       "      <td>171.500000</td>\n",
       "    </tr>\n",
       "  </tbody>\n",
       "</table>\n",
       "</div>"
      ],
      "text/plain": [
       "       sumamnt_ma_rech90  medianamnt_ma_rech90  medianmarechprebal90  \\\n",
       "count      209207.000000         209207.000000         209207.000000   \n",
       "mean        12419.048727           1868.028761             92.194875   \n",
       "std         16864.939318           2082.061320            369.534991   \n",
       "min             0.000000              0.000000           -200.000000   \n",
       "25%          2319.000000            773.000000             14.820000   \n",
       "50%          7287.000000           1539.000000             36.000000   \n",
       "75%         16000.000000           1924.000000             79.500000   \n",
       "max        953036.000000          55000.000000          41456.500000   \n",
       "\n",
       "       cnt_da_rech30   fr_da_rech30  cnt_da_rech90   fr_da_rech90  \\\n",
       "count  209207.000000  209207.000000  209207.000000  209207.000000   \n",
       "mean      263.062583    3756.412498       0.041571       0.045797   \n",
       "std      4187.740777   53934.862376       0.397918       0.952261   \n",
       "min         0.000000       0.000000       0.000000       0.000000   \n",
       "25%         0.000000       0.000000       0.000000       0.000000   \n",
       "50%         0.000000       0.000000       0.000000       0.000000   \n",
       "75%         0.000000       0.000000       0.000000       0.000000   \n",
       "max     99914.441420  999809.240107      38.000000      64.000000   \n",
       "\n",
       "         cnt_loans30   amnt_loans30  maxamnt_loans30  medianamnt_loans30  \\\n",
       "count  209207.000000  209207.000000    209207.000000       209207.000000   \n",
       "mean        2.762212      17.973987       275.154439            0.054128   \n",
       "std         2.555741      17.388191      4249.163551            0.218227   \n",
       "min         0.000000       0.000000         0.000000            0.000000   \n",
       "25%         1.000000       6.000000         6.000000            0.000000   \n",
       "50%         2.000000      12.000000         6.000000            0.000000   \n",
       "75%         4.000000      24.000000         6.000000            0.000000   \n",
       "max        50.000000     306.000000     99864.560864            3.000000   \n",
       "\n",
       "         cnt_loans90   amnt_loans90  maxamnt_loans90  medianamnt_loans90  \\\n",
       "count  209207.000000  209207.000000    209207.000000       209207.000000   \n",
       "mean       18.553232      23.677869         6.704431            0.046162   \n",
       "std       225.003451      26.483434         2.105587            0.200867   \n",
       "min         0.000000       0.000000         0.000000            0.000000   \n",
       "25%         1.000000       6.000000         6.000000            0.000000   \n",
       "50%         2.000000      12.000000         6.000000            0.000000   \n",
       "75%         5.000000      30.000000         6.000000            0.000000   \n",
       "max      4997.517944     438.000000        12.000000            3.000000   \n",
       "\n",
       "           payback30      payback90  \n",
       "count  209207.000000  209207.000000  \n",
       "mean        3.404893       4.329254  \n",
       "std         8.820229      10.315602  \n",
       "min         0.000000       0.000000  \n",
       "25%         0.000000       0.000000  \n",
       "50%         0.000000       1.666667  \n",
       "75%         3.750000       4.500000  \n",
       "max       171.500000     171.500000  "
      ]
     },
     "execution_count": 23,
     "metadata": {},
     "output_type": "execute_result"
    }
   ],
   "source": [
    "data.describe().iloc[:,16:]"
   ]
  },
  {
   "cell_type": "markdown",
   "metadata": {},
   "source": [
    "#### EDA"
   ]
  },
  {
   "cell_type": "code",
   "execution_count": 24,
   "metadata": {},
   "outputs": [
    {
     "data": {
      "text/plain": [
       "Index(['label', 'aon', 'daily_decr30', 'daily_decr90', 'rental30', 'rental90',\n",
       "       'last_rech_date_ma', 'last_rech_date_da', 'last_rech_amt_ma',\n",
       "       'cnt_ma_rech30', 'fr_ma_rech30', 'sumamnt_ma_rech30',\n",
       "       'medianamnt_ma_rech30', 'medianmarechprebal30', 'cnt_ma_rech90',\n",
       "       'fr_ma_rech90', 'sumamnt_ma_rech90', 'medianamnt_ma_rech90',\n",
       "       'medianmarechprebal90', 'cnt_da_rech30', 'fr_da_rech30',\n",
       "       'cnt_da_rech90', 'fr_da_rech90', 'cnt_loans30', 'amnt_loans30',\n",
       "       'maxamnt_loans30', 'medianamnt_loans30', 'cnt_loans90', 'amnt_loans90',\n",
       "       'maxamnt_loans90', 'medianamnt_loans90', 'payback30', 'payback90'],\n",
       "      dtype='object')"
      ]
     },
     "execution_count": 24,
     "metadata": {},
     "output_type": "execute_result"
    }
   ],
   "source": [
    "data.columns"
   ]
  },
  {
   "cell_type": "code",
   "execution_count": 25,
   "metadata": {},
   "outputs": [
    {
     "data": {
      "image/png": "[encoded data removed]",
      "text/plain": [
       "<Figure size 432x288 with 1 Axes>"
      ]
     },
     "metadata": {
      "needs_background": "light"
     },
     "output_type": "display_data"
    },
    {
     "data": {
      "image/png": "[encoded data removed]",
      "text/plain": [
       "<Figure size 432x288 with 1 Axes>"
      ]
     },
     "metadata": {
      "needs_background": "light"
     },
     "output_type": "display_data"
    },
    {
     "data": {
      "image/png": "[encoded data removed]",
      "text/plain": [
       "<Figure size 432x288 with 1 Axes>"
      ]
     },
     "metadata": {
      "needs_background": "light"
     },
     "output_type": "display_data"
    },
    {
     "data": {
      "image/png": "[encoded data removed]",
      "text/plain": [
       "<Figure size 432x288 with 1 Axes>"
      ]
     },
     "metadata": {
      "needs_background": "light"
     },
     "output_type": "display_data"
    },
    {
     "data": {
      "image/png": "[encoded data removed]",
      "text/plain": [
       "<Figure size 432x288 with 1 Axes>"
      ]
     },
     "metadata": {
      "needs_background": "light"
     },
     "output_type": "display_data"
    },
    {
     "data": {
      "image/png": "[encoded data removed]",
      "text/plain": [
       "<Figure size 432x288 with 1 Axes>"
      ]
     },
     "metadata": {
      "needs_background": "light"
     },
     "output_type": "display_data"
    },
    {
     "data": {
      "image/png": "[encoded data removed]",
      "text/plain": [
       "<Figure size 432x288 with 1 Axes>"
      ]
     },
     "metadata": {
      "needs_background": "light"
     },
     "output_type": "display_data"
    },
    {
     "data": {
      "image/png": "[encoded data removed]",
      "text/plain": [
       "<Figure size 432x288 with 1 Axes>"
      ]
     },
     "metadata": {
      "needs_background": "light"
     },
     "output_type": "display_data"
    },
    {
     "data": {
      "image/png": "[encoded data removed]",
      "text/plain": [
       "<Figure size 432x288 with 1 Axes>"
      ]
     },
     "metadata": {
      "needs_background": "light"
     },
     "output_type": "display_data"
    },
    {
     "data": {
      "image/png": "[encoded data removed]",
      "text/plain": [
       "<Figure size 432x288 with 1 Axes>"
      ]
     },
     "metadata": {
      "needs_background": "light"
     },
     "output_type": "display_data"
    },
    {
     "data": {
      "image/png": "[encoded data removed]",
      "text/plain": [
       "<Figure size 432x288 with 1 Axes>"
      ]
     },
     "metadata": {
      "needs_background": "light"
     },
     "output_type": "display_data"
    },
    {
     "data": {
      "image/png": "[encoded data removed]",
      "text/plain": [
       "<Figure size 432x288 with 1 Axes>"
      ]
     },
     "metadata": {
      "needs_background": "light"
     },
     "output_type": "display_data"
    },
    {
     "data": {
      "image/png": "[encoded data removed]",
      "text/plain": [
       "<Figure size 432x288 with 1 Axes>"
      ]
     },
     "metadata": {
      "needs_background": "light"
     },
     "output_type": "display_data"
    },
    {
     "data": {
      "image/png": "[encoded data removed]",
      "text/plain": [
       "<Figure size 432x288 with 1 Axes>"
      ]
     },
     "metadata": {
      "needs_background": "light"
     },
     "output_type": "display_data"
    },
    {
     "data": {
      "image/png": "[encoded data removed]",
      "text/plain": [
       "<Figure size 432x288 with 1 Axes>"
      ]
     },
     "metadata": {
      "needs_background": "light"
     },
     "output_type": "display_data"
    },
    {
     "data": {
      "image/png": "[encoded data removed]",
      "text/plain": [
       "<Figure size 432x288 with 1 Axes>"
      ]
     },
     "metadata": {
      "needs_background": "light"
     },
     "output_type": "display_data"
    },
    {
     "data": {
      "image/png": "[encoded data removed]",
      "text/plain": [
       "<Figure size 432x288 with 1 Axes>"
      ]
     },
     "metadata": {
      "needs_background": "light"
     },
     "output_type": "display_data"
    },
    {
     "data": {
      "image/png": "[encoded data removed]",
      "text/plain": [
       "<Figure size 432x288 with 1 Axes>"
      ]
     },
     "metadata": {
      "needs_background": "light"
     },
     "output_type": "display_data"
    },
    {
     "data": {
      "image/png": "[encoded data removed]",
      "text/plain": [
       "<Figure size 432x288 with 1 Axes>"
      ]
     },
     "metadata": {
      "needs_background": "light"
     },
     "output_type": "display_data"
    },
    {
     "data": {
      "image/png": "[encoded data removed]",
      "text/plain": [
       "<Figure size 432x288 with 1 Axes>"
      ]
     },
     "metadata": {
      "needs_background": "light"
     },
     "output_type": "display_data"
    },
    {
     "data": {
      "image/png": "[encoded data removed]",
      "text/plain": [
       "<Figure size 432x288 with 1 Axes>"
      ]
     },
     "metadata": {
      "needs_background": "light"
     },
     "output_type": "display_data"
    },
    {
     "data": {
      "image/png": "[encoded data removed]",
      "text/plain": [
       "<Figure size 432x288 with 1 Axes>"
      ]
     },
     "metadata": {
      "needs_background": "light"
     },
     "output_type": "display_data"
    },
    {
     "data": {
      "image/png": "[encoded data removed]",
      "text/plain": [
       "<Figure size 432x288 with 1 Axes>"
      ]
     },
     "metadata": {
      "needs_background": "light"
     },
     "output_type": "display_data"
    },
    {
     "data": {
      "image/png": "[encoded data removed]",
      "text/plain": [
       "<Figure size 432x288 with 1 Axes>"
      ]
     },
     "metadata": {
      "needs_background": "light"
     },
     "output_type": "display_data"
    },
    {
     "data": {
      "image/png": "[encoded data removed]",
      "text/plain": [
       "<Figure size 432x288 with 1 Axes>"
      ]
     },
     "metadata": {
      "needs_background": "light"
     },
     "output_type": "display_data"
    },
    {
     "data": {
      "image/png": "[encoded data removed]",
      "text/plain": [
       "<Figure size 432x288 with 1 Axes>"
      ]
     },
     "metadata": {
      "needs_background": "light"
     },
     "output_type": "display_data"
    },
    {
     "data": {
      "image/png": "[encoded data removed]",
      "text/plain": [
       "<Figure size 432x288 with 1 Axes>"
      ]
     },
     "metadata": {
      "needs_background": "light"
     },
     "output_type": "display_data"
    },
    {
     "data": {
      "image/png": "[encoded data removed]",
      "text/plain": [
       "<Figure size 432x288 with 1 Axes>"
      ]
     },
     "metadata": {
      "needs_background": "light"
     },
     "output_type": "display_data"
    },
    {
     "data": {
      "image/png": "[encoded data removed]",
      "text/plain": [
       "<Figure size 432x288 with 1 Axes>"
      ]
     },
     "metadata": {
      "needs_background": "light"
     },
     "output_type": "display_data"
    },
    {
     "data": {
      "image/png": "[encoded data removed]",
      "text/plain": [
       "<Figure size 432x288 with 1 Axes>"
      ]
     },
     "metadata": {
      "needs_background": "light"
     },
     "output_type": "display_data"
    },
    {
     "data": {
      "image/png": "[encoded data removed]",
      "text/plain": [
       "<Figure size 432x288 with 1 Axes>"
      ]
     },
     "metadata": {
      "needs_background": "light"
     },
     "output_type": "display_data"
    },
    {
     "data": {
      "image/png": "[encoded data removed]",
      "text/plain": [
       "<Figure size 432x288 with 1 Axes>"
      ]
     },
     "metadata": {
      "needs_background": "light"
     },
     "output_type": "display_data"
    }
   ],
   "source": [
    "for col in data.columns[1:]:\n",
    "    sns.boxplot(data[col])\n",
    "    plt.show()"
   ]
  },
  {
   "cell_type": "code",
   "execution_count": 26,
   "metadata": {},
   "outputs": [
    {
     "data": {
      "image/png": "[encoded data removed]",
      "text/plain": [
       "<Figure size 432x288 with 1 Axes>"
      ]
     },
     "metadata": {
      "needs_background": "light"
     },
     "output_type": "display_data"
    },
    {
     "data": {
      "image/png": "[encoded data removed]",
      "text/plain": [
       "<Figure size 432x288 with 1 Axes>"
      ]
     },
     "metadata": {
      "needs_background": "light"
     },
     "output_type": "display_data"
    },
    {
     "data": {
      "image/png": "[encoded data removed]",
      "text/plain": [
       "<Figure size 432x288 with 1 Axes>"
      ]
     },
     "metadata": {
      "needs_background": "light"
     },
     "output_type": "display_data"
    },
    {
     "data": {
      "image/png": "[encoded data removed]",
      "text/plain": [
       "<Figure size 432x288 with 1 Axes>"
      ]
     },
     "metadata": {
      "needs_background": "light"
     },
     "output_type": "display_data"
    },
    {
     "data": {
      "image/png": "[encoded data removed]",
      "text/plain": [
       "<Figure size 432x288 with 1 Axes>"
      ]
     },
     "metadata": {
      "needs_background": "light"
     },
     "output_type": "display_data"
    },
    {
     "data": {
      "image/png": "[encoded data removed]",
      "text/plain": [
       "<Figure size 432x288 with 1 Axes>"
      ]
     },
     "metadata": {
      "needs_background": "light"
     },
     "output_type": "display_data"
    },
    {
     "data": {
      "image/png": "[encoded data removed]",
      "text/plain": [
       "<Figure size 432x288 with 1 Axes>"
      ]
     },
     "metadata": {
      "needs_background": "light"
     },
     "output_type": "display_data"
    },
    {
     "data": {
      "image/png": "[encoded data removed]",
      "text/plain": [
       "<Figure size 432x288 with 1 Axes>"
      ]
     },
     "metadata": {
      "needs_background": "light"
     },
     "output_type": "display_data"
    },
    {
     "data": {
      "image/png": "[encoded data removed]",
      "text/plain": [
       "<Figure size 432x288 with 1 Axes>"
      ]
     },
     "metadata": {
      "needs_background": "light"
     },
     "output_type": "display_data"
    },
    {
     "data": {
      "image/png": "[encoded data removed]",
      "text/plain": [
       "<Figure size 432x288 with 1 Axes>"
      ]
     },
     "metadata": {
      "needs_background": "light"
     },
     "output_type": "display_data"
    },
    {
     "data": {
      "image/png": "[encoded data removed]",
      "text/plain": [
       "<Figure size 432x288 with 1 Axes>"
      ]
     },
     "metadata": {
      "needs_background": "light"
     },
     "output_type": "display_data"
    },
    {
     "data": {
      "image/png": "[encoded data removed]",
      "text/plain": [
       "<Figure size 432x288 with 1 Axes>"
      ]
     },
     "metadata": {
      "needs_background": "light"
     },
     "output_type": "display_data"
    },
    {
     "data": {
      "image/png": "[encoded data removed]",
      "text/plain": [
       "<Figure size 432x288 with 1 Axes>"
      ]
     },
     "metadata": {
      "needs_background": "light"
     },
     "output_type": "display_data"
    },
    {
     "data": {
      "image/png": "[encoded data removed]",
      "text/plain": [
       "<Figure size 432x288 with 1 Axes>"
      ]
     },
     "metadata": {
      "needs_background": "light"
     },
     "output_type": "display_data"
    },
    {
     "data": {
      "image/png": "[encoded data removed]",
      "text/plain": [
       "<Figure size 432x288 with 1 Axes>"
      ]
     },
     "metadata": {
      "needs_background": "light"
     },
     "output_type": "display_data"
    },
    {
     "data": {
      "image/png": "[encoded data removed]",
      "text/plain": [
       "<Figure size 432x288 with 1 Axes>"
      ]
     },
     "metadata": {
      "needs_background": "light"
     },
     "output_type": "display_data"
    },
    {
     "data": {
      "image/png": "[encoded data removed]",
      "text/plain": [
       "<Figure size 432x288 with 1 Axes>"
      ]
     },
     "metadata": {
      "needs_background": "light"
     },
     "output_type": "display_data"
    },
    {
     "data": {
      "image/png": "[encoded data removed]",
      "text/plain": [
       "<Figure size 432x288 with 1 Axes>"
      ]
     },
     "metadata": {
      "needs_background": "light"
     },
     "output_type": "display_data"
    },
    {
     "data": {
      "image/png": "[encoded data removed]",
      "text/plain": [
       "<Figure size 432x288 with 1 Axes>"
      ]
     },
     "metadata": {
      "needs_background": "light"
     },
     "output_type": "display_data"
    },
    {
     "data": {
      "image/png": "[encoded data removed]",
      "text/plain": [
       "<Figure size 432x288 with 1 Axes>"
      ]
     },
     "metadata": {
      "needs_background": "light"
     },
     "output_type": "display_data"
    },
    {
     "data": {
      "image/png": "[encoded data removed]",
      "text/plain": [
       "<Figure size 432x288 with 1 Axes>"
      ]
     },
     "metadata": {
      "needs_background": "light"
     },
     "output_type": "display_data"
    },
    {
     "data": {
      "image/png": "[encoded data removed]",
      "text/plain": [
       "<Figure size 432x288 with 1 Axes>"
      ]
     },
     "metadata": {
      "needs_background": "light"
     },
     "output_type": "display_data"
    },
    {
     "data": {
      "image/png": "[encoded data removed]",
      "text/plain": [
       "<Figure size 432x288 with 1 Axes>"
      ]
     },
     "metadata": {
      "needs_background": "light"
     },
     "output_type": "display_data"
    },
    {
     "data": {
      "image/png": "[encoded data removed]",
      "text/plain": [
       "<Figure size 432x288 with 1 Axes>"
      ]
     },
     "metadata": {
      "needs_background": "light"
     },
     "output_type": "display_data"
    },
    {
     "data": {
      "image/png": "[encoded data removed]",
      "text/plain": [
       "<Figure size 432x288 with 1 Axes>"
      ]
     },
     "metadata": {
      "needs_background": "light"
     },
     "output_type": "display_data"
    },
    {
     "data": {
      "image/png": "[encoded data removed]",
      "text/plain": [
       "<Figure size 432x288 with 1 Axes>"
      ]
     },
     "metadata": {
      "needs_background": "light"
     },
     "output_type": "display_data"
    },
    {
     "data": {
      "image/png": "[encoded data removed]",
      "text/plain": [
       "<Figure size 432x288 with 1 Axes>"
      ]
     },
     "metadata": {
      "needs_background": "light"
     },
     "output_type": "display_data"
    },
    {
     "data": {
      "image/png": "[encoded data removed]",
      "text/plain": [
       "<Figure size 432x288 with 1 Axes>"
      ]
     },
     "metadata": {
      "needs_background": "light"
     },
     "output_type": "display_data"
    },
    {
     "data": {
      "image/png": "[encoded data removed]",
      "text/plain": [
       "<Figure size 432x288 with 1 Axes>"
      ]
     },
     "metadata": {
      "needs_background": "light"
     },
     "output_type": "display_data"
    },
    {
     "data": {
      "image/png": "[encoded data removed]",
      "text/plain": [
       "<Figure size 432x288 with 1 Axes>"
      ]
     },
     "metadata": {
      "needs_background": "light"
     },
     "output_type": "display_data"
    },
    {
     "data": {
      "image/png": "[encoded data removed]",
      "text/plain": [
       "<Figure size 432x288 with 1 Axes>"
      ]
     },
     "metadata": {
      "needs_background": "light"
     },
     "output_type": "display_data"
    },
    {
     "data": {
      "image/png": "[encoded data removed]",
      "text/plain": [
       "<Figure size 432x288 with 1 Axes>"
      ]
     },
     "metadata": {
      "needs_background": "light"
     },
     "output_type": "display_data"
    }
   ],
   "source": [
    "for col in data.columns[1:]:\n",
    "    sns.distplot(data[col])\n",
    "    plt.show()"
   ]
  },
  {
   "cell_type": "code",
   "execution_count": 27,
   "metadata": {},
   "outputs": [],
   "source": [
    "from scipy.stats import zscore"
   ]
  },
  {
   "cell_type": "code",
   "execution_count": 28,
   "metadata": {},
   "outputs": [],
   "source": [
    "zscr=np.abs(zscore(data))"
   ]
  },
  {
   "cell_type": "code",
   "execution_count": 29,
   "metadata": {},
   "outputs": [],
   "source": [
    "out_row,out_col=np.where(zscr>3)"
   ]
  },
  {
   "cell_type": "code",
   "execution_count": 30,
   "metadata": {},
   "outputs": [
    {
     "data": {
      "text/plain": [
       "96562"
      ]
     },
     "execution_count": 30,
     "metadata": {},
     "output_type": "execute_result"
    }
   ],
   "source": [
    "len(out_row)"
   ]
  },
  {
   "cell_type": "code",
   "execution_count": 31,
   "metadata": {},
   "outputs": [
    {
     "data": {
      "text/plain": [
       "0.5384380063764597"
      ]
     },
     "execution_count": 31,
     "metadata": {},
     "output_type": "execute_result"
    }
   ],
   "source": [
    "(209207-96562)/209207"
   ]
  },
  {
   "cell_type": "markdown",
   "metadata": {},
   "source": [
    "- Upto than 50% data loss will occur if we remove outliers"
   ]
  },
  {
   "cell_type": "markdown",
   "metadata": {},
   "source": [
    "- After plotting distpolt we found that some columns are skewed, So we need to remove these skewness"
   ]
  },
  {
   "cell_type": "code",
   "execution_count": 32,
   "metadata": {},
   "outputs": [
    {
     "data": {
      "text/plain": [
       "Index(['aon', 'daily_decr30', 'daily_decr90', 'rental30', 'rental90',\n",
       "       'last_rech_date_ma', 'last_rech_date_da', 'last_rech_amt_ma',\n",
       "       'cnt_ma_rech30', 'fr_ma_rech30', 'sumamnt_ma_rech30',\n",
       "       'medianamnt_ma_rech30', 'medianmarechprebal30', 'cnt_ma_rech90',\n",
       "       'sumamnt_ma_rech90', 'medianamnt_ma_rech90', 'medianmarechprebal90',\n",
       "       'cnt_da_rech30', 'fr_da_rech30', 'cnt_da_rech90', 'fr_da_rech90',\n",
       "       'maxamnt_loans30', 'medianamnt_loans30', 'cnt_loans90', 'amnt_loans90',\n",
       "       'medianamnt_loans90', 'payback30', 'payback90'],\n",
       "      dtype='object')"
      ]
     },
     "execution_count": 32,
     "metadata": {},
     "output_type": "execute_result"
    }
   ],
   "source": [
    "data.columns[np.abs(data.skew())>3]"
   ]
  },
  {
   "cell_type": "code",
   "execution_count": 33,
   "metadata": {},
   "outputs": [],
   "source": [
    "for col in data.columns[1:]:\n",
    "    if data[col].skew()>3:\n",
    "        data[col]=np.cbrt(data[col])\n",
    "        \n",
    "    if data[col].skew()<-3:\n",
    "        data[col]=np.cbrt(data[col])"
   ]
  },
  {
   "cell_type": "markdown",
   "metadata": {},
   "source": [
    "#### Checking unique values in each feaeture columns"
   ]
  },
  {
   "cell_type": "code",
   "execution_count": 35,
   "metadata": {},
   "outputs": [
    {
     "name": "stdout",
     "output_type": "stream",
     "text": [
      "Unique values in column label = 2\n",
      "Unique values in column aon = 4507\n",
      "Unique values in column daily_decr30 = 147022\n",
      "Unique values in column daily_decr90 = 158666\n",
      "Unique values in column rental30 = 132147\n",
      "Unique values in column rental90 = 141032\n",
      "Unique values in column last_rech_date_ma = 1186\n",
      "Unique values in column last_rech_date_da = 1174\n",
      "Unique values in column last_rech_amt_ma = 70\n",
      "Unique values in column cnt_ma_rech30 = 71\n",
      "Unique values in column fr_ma_rech30 = 1083\n",
      "Unique values in column sumamnt_ma_rech30 = 15141\n",
      "Unique values in column medianamnt_ma_rech30 = 510\n",
      "Unique values in column medianmarechprebal30 = 30421\n",
      "Unique values in column cnt_ma_rech90 = 110\n",
      "Unique values in column fr_ma_rech90 = 89\n",
      "Unique values in column sumamnt_ma_rech90 = 31771\n",
      "Unique values in column medianamnt_ma_rech90 = 608\n",
      "Unique values in column medianmarechprebal90 = 29776\n",
      "Unique values in column cnt_da_rech30 = 1066\n",
      "Unique values in column fr_da_rech30 = 1072\n",
      "Unique values in column cnt_da_rech90 = 27\n",
      "Unique values in column fr_da_rech90 = 46\n",
      "Unique values in column cnt_loans30 = 40\n",
      "Unique values in column amnt_loans30 = 48\n",
      "Unique values in column maxamnt_loans30 = 1050\n",
      "Unique values in column medianamnt_loans30 = 6\n",
      "Unique values in column cnt_loans90 = 1110\n",
      "Unique values in column amnt_loans90 = 69\n",
      "Unique values in column maxamnt_loans90 = 3\n",
      "Unique values in column medianamnt_loans90 = 6\n",
      "Unique values in column payback30 = 1363\n",
      "Unique values in column payback90 = 2381\n"
     ]
    }
   ],
   "source": [
    "for col in data.columns:\n",
    "    print(f'Unique values in column {col} = {len(data[col].unique())}')"
   ]
  },
  {
   "cell_type": "code",
   "execution_count": null,
   "metadata": {},
   "outputs": [],
   "source": []
  },
  {
   "cell_type": "code",
   "execution_count": 36,
   "metadata": {},
   "outputs": [],
   "source": [
    "from sklearn.ensemble import RandomForestClassifier\n",
    "rmodel=RandomForestClassifier()"
   ]
  },
  {
   "cell_type": "code",
   "execution_count": 37,
   "metadata": {},
   "outputs": [],
   "source": [
    "from sklearn.metrics import accuracy_score,confusion_matrix"
   ]
  },
  {
   "cell_type": "code",
   "execution_count": 38,
   "metadata": {},
   "outputs": [
    {
     "data": {
      "text/plain": [
       "1    183415\n",
       "0     25792\n",
       "Name: label, dtype: int64"
      ]
     },
     "execution_count": 38,
     "metadata": {},
     "output_type": "execute_result"
    }
   ],
   "source": [
    "data.label.value_counts()"
   ]
  },
  {
   "cell_type": "markdown",
   "metadata": {},
   "source": [
    "Hence the dataset is Unbalance we need to it as balanced dataset"
   ]
  },
  {
   "cell_type": "code",
   "execution_count": 39,
   "metadata": {},
   "outputs": [],
   "source": [
    "nondefaulter=data[data.label==1]\n",
    "defaulter=data[data.label==0]"
   ]
  },
  {
   "cell_type": "code",
   "execution_count": 40,
   "metadata": {},
   "outputs": [],
   "source": [
    "from sklearn.utils import resample"
   ]
  },
  {
   "cell_type": "code",
   "execution_count": 41,
   "metadata": {},
   "outputs": [],
   "source": [
    "default_sampled=resample(defaulter,n_samples=len(nondefaulter))"
   ]
  },
  {
   "cell_type": "code",
   "execution_count": 42,
   "metadata": {},
   "outputs": [
    {
     "data": {
      "text/html": [
       "<div>\n",
       "<style scoped>\n",
       "    .dataframe tbody tr th:only-of-type {\n",
       "        vertical-align: middle;\n",
       "    }\n",
       "\n",
       "    .dataframe tbody tr th {\n",
       "        vertical-align: top;\n",
       "    }\n",
       "\n",
       "    .dataframe thead th {\n",
       "        text-align: right;\n",
       "    }\n",
       "</style>\n",
       "<table border=\"1\" class=\"dataframe\">\n",
       "  <thead>\n",
       "    <tr style=\"text-align: right;\">\n",
       "      <th></th>\n",
       "      <th>label</th>\n",
       "      <th>aon</th>\n",
       "      <th>daily_decr30</th>\n",
       "      <th>daily_decr90</th>\n",
       "      <th>rental30</th>\n",
       "      <th>rental90</th>\n",
       "      <th>last_rech_date_ma</th>\n",
       "      <th>last_rech_date_da</th>\n",
       "      <th>last_rech_amt_ma</th>\n",
       "      <th>cnt_ma_rech30</th>\n",
       "      <th>...</th>\n",
       "      <th>cnt_loans30</th>\n",
       "      <th>amnt_loans30</th>\n",
       "      <th>maxamnt_loans30</th>\n",
       "      <th>medianamnt_loans30</th>\n",
       "      <th>cnt_loans90</th>\n",
       "      <th>amnt_loans90</th>\n",
       "      <th>maxamnt_loans90</th>\n",
       "      <th>medianamnt_loans90</th>\n",
       "      <th>payback30</th>\n",
       "      <th>payback90</th>\n",
       "    </tr>\n",
       "  </thead>\n",
       "  <tbody>\n",
       "    <tr>\n",
       "      <th>398</th>\n",
       "      <td>0</td>\n",
       "      <td>5.104469</td>\n",
       "      <td>0.000000</td>\n",
       "      <td>0.000000</td>\n",
       "      <td>7.452080</td>\n",
       "      <td>7.452080</td>\n",
       "      <td>0.000000</td>\n",
       "      <td>0.0</td>\n",
       "      <td>0.000000</td>\n",
       "      <td>0.000000</td>\n",
       "      <td>...</td>\n",
       "      <td>1</td>\n",
       "      <td>6</td>\n",
       "      <td>1.817121</td>\n",
       "      <td>0.0</td>\n",
       "      <td>1.000000</td>\n",
       "      <td>1.817121</td>\n",
       "      <td>6</td>\n",
       "      <td>0.0</td>\n",
       "      <td>0.0</td>\n",
       "      <td>0.0</td>\n",
       "    </tr>\n",
       "    <tr>\n",
       "      <th>186745</th>\n",
       "      <td>0</td>\n",
       "      <td>10.632486</td>\n",
       "      <td>9.338928</td>\n",
       "      <td>9.340839</td>\n",
       "      <td>3.825179</td>\n",
       "      <td>3.868651</td>\n",
       "      <td>2.223980</td>\n",
       "      <td>0.0</td>\n",
       "      <td>9.177544</td>\n",
       "      <td>1.259921</td>\n",
       "      <td>...</td>\n",
       "      <td>1</td>\n",
       "      <td>6</td>\n",
       "      <td>1.817121</td>\n",
       "      <td>0.0</td>\n",
       "      <td>1.000000</td>\n",
       "      <td>1.817121</td>\n",
       "      <td>6</td>\n",
       "      <td>0.0</td>\n",
       "      <td>0.0</td>\n",
       "      <td>0.0</td>\n",
       "    </tr>\n",
       "    <tr>\n",
       "      <th>157167</th>\n",
       "      <td>0</td>\n",
       "      <td>6.641852</td>\n",
       "      <td>13.572088</td>\n",
       "      <td>13.572088</td>\n",
       "      <td>22.557090</td>\n",
       "      <td>23.529753</td>\n",
       "      <td>1.912931</td>\n",
       "      <td>0.0</td>\n",
       "      <td>11.565474</td>\n",
       "      <td>1.000000</td>\n",
       "      <td>...</td>\n",
       "      <td>2</td>\n",
       "      <td>12</td>\n",
       "      <td>1.817121</td>\n",
       "      <td>0.0</td>\n",
       "      <td>1.259921</td>\n",
       "      <td>2.289428</td>\n",
       "      <td>6</td>\n",
       "      <td>0.0</td>\n",
       "      <td>0.0</td>\n",
       "      <td>0.0</td>\n",
       "    </tr>\n",
       "    <tr>\n",
       "      <th>165749</th>\n",
       "      <td>0</td>\n",
       "      <td>8.222899</td>\n",
       "      <td>0.000000</td>\n",
       "      <td>0.000000</td>\n",
       "      <td>12.088193</td>\n",
       "      <td>12.088193</td>\n",
       "      <td>0.000000</td>\n",
       "      <td>0.0</td>\n",
       "      <td>0.000000</td>\n",
       "      <td>0.000000</td>\n",
       "      <td>...</td>\n",
       "      <td>1</td>\n",
       "      <td>6</td>\n",
       "      <td>1.817121</td>\n",
       "      <td>0.0</td>\n",
       "      <td>1.000000</td>\n",
       "      <td>1.817121</td>\n",
       "      <td>6</td>\n",
       "      <td>0.0</td>\n",
       "      <td>0.0</td>\n",
       "      <td>0.0</td>\n",
       "    </tr>\n",
       "    <tr>\n",
       "      <th>153804</th>\n",
       "      <td>0</td>\n",
       "      <td>6.357861</td>\n",
       "      <td>12.027714</td>\n",
       "      <td>12.027714</td>\n",
       "      <td>8.411586</td>\n",
       "      <td>10.293816</td>\n",
       "      <td>1.442250</td>\n",
       "      <td>0.0</td>\n",
       "      <td>9.165656</td>\n",
       "      <td>1.000000</td>\n",
       "      <td>...</td>\n",
       "      <td>1</td>\n",
       "      <td>6</td>\n",
       "      <td>1.817121</td>\n",
       "      <td>0.0</td>\n",
       "      <td>1.000000</td>\n",
       "      <td>1.817121</td>\n",
       "      <td>6</td>\n",
       "      <td>0.0</td>\n",
       "      <td>0.0</td>\n",
       "      <td>0.0</td>\n",
       "    </tr>\n",
       "    <tr>\n",
       "      <th>...</th>\n",
       "      <td>...</td>\n",
       "      <td>...</td>\n",
       "      <td>...</td>\n",
       "      <td>...</td>\n",
       "      <td>...</td>\n",
       "      <td>...</td>\n",
       "      <td>...</td>\n",
       "      <td>...</td>\n",
       "      <td>...</td>\n",
       "      <td>...</td>\n",
       "      <td>...</td>\n",
       "      <td>...</td>\n",
       "      <td>...</td>\n",
       "      <td>...</td>\n",
       "      <td>...</td>\n",
       "      <td>...</td>\n",
       "      <td>...</td>\n",
       "      <td>...</td>\n",
       "      <td>...</td>\n",
       "      <td>...</td>\n",
       "      <td>...</td>\n",
       "    </tr>\n",
       "    <tr>\n",
       "      <th>151515</th>\n",
       "      <td>0</td>\n",
       "      <td>87.276848</td>\n",
       "      <td>0.000000</td>\n",
       "      <td>0.000000</td>\n",
       "      <td>12.450901</td>\n",
       "      <td>12.450901</td>\n",
       "      <td>0.000000</td>\n",
       "      <td>0.0</td>\n",
       "      <td>0.000000</td>\n",
       "      <td>0.000000</td>\n",
       "      <td>...</td>\n",
       "      <td>1</td>\n",
       "      <td>6</td>\n",
       "      <td>1.817121</td>\n",
       "      <td>0.0</td>\n",
       "      <td>1.000000</td>\n",
       "      <td>1.817121</td>\n",
       "      <td>6</td>\n",
       "      <td>0.0</td>\n",
       "      <td>0.0</td>\n",
       "      <td>0.0</td>\n",
       "    </tr>\n",
       "    <tr>\n",
       "      <th>134692</th>\n",
       "      <td>0</td>\n",
       "      <td>-2.620741</td>\n",
       "      <td>9.283178</td>\n",
       "      <td>9.283178</td>\n",
       "      <td>10.504820</td>\n",
       "      <td>10.614055</td>\n",
       "      <td>1.000000</td>\n",
       "      <td>0.0</td>\n",
       "      <td>9.165656</td>\n",
       "      <td>1.000000</td>\n",
       "      <td>...</td>\n",
       "      <td>1</td>\n",
       "      <td>6</td>\n",
       "      <td>1.817121</td>\n",
       "      <td>0.0</td>\n",
       "      <td>1.000000</td>\n",
       "      <td>1.817121</td>\n",
       "      <td>6</td>\n",
       "      <td>0.0</td>\n",
       "      <td>0.0</td>\n",
       "      <td>0.0</td>\n",
       "    </tr>\n",
       "    <tr>\n",
       "      <th>153948</th>\n",
       "      <td>0</td>\n",
       "      <td>8.657947</td>\n",
       "      <td>0.000000</td>\n",
       "      <td>0.000000</td>\n",
       "      <td>7.955587</td>\n",
       "      <td>7.955587</td>\n",
       "      <td>0.000000</td>\n",
       "      <td>0.0</td>\n",
       "      <td>0.000000</td>\n",
       "      <td>0.000000</td>\n",
       "      <td>...</td>\n",
       "      <td>1</td>\n",
       "      <td>6</td>\n",
       "      <td>1.817121</td>\n",
       "      <td>0.0</td>\n",
       "      <td>1.000000</td>\n",
       "      <td>1.817121</td>\n",
       "      <td>6</td>\n",
       "      <td>0.0</td>\n",
       "      <td>0.0</td>\n",
       "      <td>0.0</td>\n",
       "    </tr>\n",
       "    <tr>\n",
       "      <th>107429</th>\n",
       "      <td>0</td>\n",
       "      <td>7.293633</td>\n",
       "      <td>10.000000</td>\n",
       "      <td>10.000000</td>\n",
       "      <td>8.050411</td>\n",
       "      <td>8.050411</td>\n",
       "      <td>0.000000</td>\n",
       "      <td>0.0</td>\n",
       "      <td>0.000000</td>\n",
       "      <td>0.000000</td>\n",
       "      <td>...</td>\n",
       "      <td>1</td>\n",
       "      <td>6</td>\n",
       "      <td>1.817121</td>\n",
       "      <td>0.0</td>\n",
       "      <td>1.000000</td>\n",
       "      <td>1.817121</td>\n",
       "      <td>6</td>\n",
       "      <td>0.0</td>\n",
       "      <td>0.0</td>\n",
       "      <td>0.0</td>\n",
       "    </tr>\n",
       "    <tr>\n",
       "      <th>123727</th>\n",
       "      <td>0</td>\n",
       "      <td>7.392542</td>\n",
       "      <td>0.000000</td>\n",
       "      <td>0.000000</td>\n",
       "      <td>4.708691</td>\n",
       "      <td>4.708691</td>\n",
       "      <td>0.000000</td>\n",
       "      <td>0.0</td>\n",
       "      <td>0.000000</td>\n",
       "      <td>0.000000</td>\n",
       "      <td>...</td>\n",
       "      <td>1</td>\n",
       "      <td>6</td>\n",
       "      <td>1.817121</td>\n",
       "      <td>0.0</td>\n",
       "      <td>1.000000</td>\n",
       "      <td>1.817121</td>\n",
       "      <td>6</td>\n",
       "      <td>0.0</td>\n",
       "      <td>0.0</td>\n",
       "      <td>0.0</td>\n",
       "    </tr>\n",
       "  </tbody>\n",
       "</table>\n",
       "<p>183415 rows × 33 columns</p>\n",
       "</div>"
      ],
      "text/plain": [
       "        label        aon  daily_decr30  daily_decr90   rental30   rental90  \\\n",
       "398         0   5.104469      0.000000      0.000000   7.452080   7.452080   \n",
       "186745      0  10.632486      9.338928      9.340839   3.825179   3.868651   \n",
       "157167      0   6.641852     13.572088     13.572088  22.557090  23.529753   \n",
       "165749      0   8.222899      0.000000      0.000000  12.088193  12.088193   \n",
       "153804      0   6.357861     12.027714     12.027714   8.411586  10.293816   \n",
       "...       ...        ...           ...           ...        ...        ...   \n",
       "151515      0  87.276848      0.000000      0.000000  12.450901  12.450901   \n",
       "134692      0  -2.620741      9.283178      9.283178  10.504820  10.614055   \n",
       "153948      0   8.657947      0.000000      0.000000   7.955587   7.955587   \n",
       "107429      0   7.293633     10.000000     10.000000   8.050411   8.050411   \n",
       "123727      0   7.392542      0.000000      0.000000   4.708691   4.708691   \n",
       "\n",
       "        last_rech_date_ma  last_rech_date_da  last_rech_amt_ma  cnt_ma_rech30  \\\n",
       "398              0.000000                0.0          0.000000       0.000000   \n",
       "186745           2.223980                0.0          9.177544       1.259921   \n",
       "157167           1.912931                0.0         11.565474       1.000000   \n",
       "165749           0.000000                0.0          0.000000       0.000000   \n",
       "153804           1.442250                0.0          9.165656       1.000000   \n",
       "...                   ...                ...               ...            ...   \n",
       "151515           0.000000                0.0          0.000000       0.000000   \n",
       "134692           1.000000                0.0          9.165656       1.000000   \n",
       "153948           0.000000                0.0          0.000000       0.000000   \n",
       "107429           0.000000                0.0          0.000000       0.000000   \n",
       "123727           0.000000                0.0          0.000000       0.000000   \n",
       "\n",
       "        ...  cnt_loans30  amnt_loans30  maxamnt_loans30  medianamnt_loans30  \\\n",
       "398     ...            1             6         1.817121                 0.0   \n",
       "186745  ...            1             6         1.817121                 0.0   \n",
       "157167  ...            2            12         1.817121                 0.0   \n",
       "165749  ...            1             6         1.817121                 0.0   \n",
       "153804  ...            1             6         1.817121                 0.0   \n",
       "...     ...          ...           ...              ...                 ...   \n",
       "151515  ...            1             6         1.817121                 0.0   \n",
       "134692  ...            1             6         1.817121                 0.0   \n",
       "153948  ...            1             6         1.817121                 0.0   \n",
       "107429  ...            1             6         1.817121                 0.0   \n",
       "123727  ...            1             6         1.817121                 0.0   \n",
       "\n",
       "        cnt_loans90  amnt_loans90  maxamnt_loans90  medianamnt_loans90  \\\n",
       "398        1.000000      1.817121                6                 0.0   \n",
       "186745     1.000000      1.817121                6                 0.0   \n",
       "157167     1.259921      2.289428                6                 0.0   \n",
       "165749     1.000000      1.817121                6                 0.0   \n",
       "153804     1.000000      1.817121                6                 0.0   \n",
       "...             ...           ...              ...                 ...   \n",
       "151515     1.000000      1.817121                6                 0.0   \n",
       "134692     1.000000      1.817121                6                 0.0   \n",
       "153948     1.000000      1.817121                6                 0.0   \n",
       "107429     1.000000      1.817121                6                 0.0   \n",
       "123727     1.000000      1.817121                6                 0.0   \n",
       "\n",
       "        payback30  payback90  \n",
       "398           0.0        0.0  \n",
       "186745        0.0        0.0  \n",
       "157167        0.0        0.0  \n",
       "165749        0.0        0.0  \n",
       "153804        0.0        0.0  \n",
       "...           ...        ...  \n",
       "151515        0.0        0.0  \n",
       "134692        0.0        0.0  \n",
       "153948        0.0        0.0  \n",
       "107429        0.0        0.0  \n",
       "123727        0.0        0.0  \n",
       "\n",
       "[183415 rows x 33 columns]"
      ]
     },
     "execution_count": 42,
     "metadata": {},
     "output_type": "execute_result"
    }
   ],
   "source": [
    "default_sampled"
   ]
  },
  {
   "cell_type": "code",
   "execution_count": 43,
   "metadata": {},
   "outputs": [],
   "source": [
    "upsampled=pd.concat([nondefaulter,default_sampled])"
   ]
  },
  {
   "cell_type": "code",
   "execution_count": 44,
   "metadata": {},
   "outputs": [
    {
     "data": {
      "text/html": [
       "<div>\n",
       "<style scoped>\n",
       "    .dataframe tbody tr th:only-of-type {\n",
       "        vertical-align: middle;\n",
       "    }\n",
       "\n",
       "    .dataframe tbody tr th {\n",
       "        vertical-align: top;\n",
       "    }\n",
       "\n",
       "    .dataframe thead th {\n",
       "        text-align: right;\n",
       "    }\n",
       "</style>\n",
       "<table border=\"1\" class=\"dataframe\">\n",
       "  <thead>\n",
       "    <tr style=\"text-align: right;\">\n",
       "      <th></th>\n",
       "      <th>label</th>\n",
       "      <th>aon</th>\n",
       "      <th>daily_decr30</th>\n",
       "      <th>daily_decr90</th>\n",
       "      <th>rental30</th>\n",
       "      <th>rental90</th>\n",
       "      <th>last_rech_date_ma</th>\n",
       "      <th>last_rech_date_da</th>\n",
       "      <th>last_rech_amt_ma</th>\n",
       "      <th>cnt_ma_rech30</th>\n",
       "      <th>...</th>\n",
       "      <th>cnt_loans30</th>\n",
       "      <th>amnt_loans30</th>\n",
       "      <th>maxamnt_loans30</th>\n",
       "      <th>medianamnt_loans30</th>\n",
       "      <th>cnt_loans90</th>\n",
       "      <th>amnt_loans90</th>\n",
       "      <th>maxamnt_loans90</th>\n",
       "      <th>medianamnt_loans90</th>\n",
       "      <th>payback30</th>\n",
       "      <th>payback90</th>\n",
       "    </tr>\n",
       "  </thead>\n",
       "  <tbody>\n",
       "    <tr>\n",
       "      <th>1</th>\n",
       "      <td>1</td>\n",
       "      <td>8.929490</td>\n",
       "      <td>22.971610</td>\n",
       "      <td>22.973347</td>\n",
       "      <td>15.454616</td>\n",
       "      <td>15.454616</td>\n",
       "      <td>2.714418</td>\n",
       "      <td>0.0</td>\n",
       "      <td>17.953584</td>\n",
       "      <td>1.000000</td>\n",
       "      <td>...</td>\n",
       "      <td>1</td>\n",
       "      <td>12</td>\n",
       "      <td>2.289428</td>\n",
       "      <td>0.0</td>\n",
       "      <td>1.000000</td>\n",
       "      <td>2.289428</td>\n",
       "      <td>12</td>\n",
       "      <td>0.0</td>\n",
       "      <td>0.000000</td>\n",
       "      <td>0.000000</td>\n",
       "    </tr>\n",
       "    <tr>\n",
       "      <th>2</th>\n",
       "      <td>1</td>\n",
       "      <td>8.118041</td>\n",
       "      <td>11.181560</td>\n",
       "      <td>11.181560</td>\n",
       "      <td>9.655359</td>\n",
       "      <td>9.655359</td>\n",
       "      <td>1.442250</td>\n",
       "      <td>0.0</td>\n",
       "      <td>11.545503</td>\n",
       "      <td>1.000000</td>\n",
       "      <td>...</td>\n",
       "      <td>1</td>\n",
       "      <td>6</td>\n",
       "      <td>1.817121</td>\n",
       "      <td>0.0</td>\n",
       "      <td>1.000000</td>\n",
       "      <td>1.817121</td>\n",
       "      <td>6</td>\n",
       "      <td>0.0</td>\n",
       "      <td>0.000000</td>\n",
       "      <td>0.000000</td>\n",
       "    </tr>\n",
       "    <tr>\n",
       "      <th>3</th>\n",
       "      <td>1</td>\n",
       "      <td>6.223084</td>\n",
       "      <td>2.768873</td>\n",
       "      <td>2.768873</td>\n",
       "      <td>5.422267</td>\n",
       "      <td>5.422267</td>\n",
       "      <td>3.448217</td>\n",
       "      <td>0.0</td>\n",
       "      <td>9.820117</td>\n",
       "      <td>0.000000</td>\n",
       "      <td>...</td>\n",
       "      <td>2</td>\n",
       "      <td>12</td>\n",
       "      <td>1.817121</td>\n",
       "      <td>0.0</td>\n",
       "      <td>1.259921</td>\n",
       "      <td>2.289428</td>\n",
       "      <td>6</td>\n",
       "      <td>0.0</td>\n",
       "      <td>0.000000</td>\n",
       "      <td>0.000000</td>\n",
       "    </tr>\n",
       "    <tr>\n",
       "      <th>4</th>\n",
       "      <td>1</td>\n",
       "      <td>9.820117</td>\n",
       "      <td>5.320595</td>\n",
       "      <td>5.320595</td>\n",
       "      <td>10.319359</td>\n",
       "      <td>10.319359</td>\n",
       "      <td>1.587401</td>\n",
       "      <td>0.0</td>\n",
       "      <td>13.217256</td>\n",
       "      <td>1.912931</td>\n",
       "      <td>...</td>\n",
       "      <td>7</td>\n",
       "      <td>42</td>\n",
       "      <td>1.817121</td>\n",
       "      <td>0.0</td>\n",
       "      <td>1.912931</td>\n",
       "      <td>3.476027</td>\n",
       "      <td>6</td>\n",
       "      <td>0.0</td>\n",
       "      <td>1.326352</td>\n",
       "      <td>1.326352</td>\n",
       "    </tr>\n",
       "    <tr>\n",
       "      <th>5</th>\n",
       "      <td>1</td>\n",
       "      <td>8.281635</td>\n",
       "      <td>13.117984</td>\n",
       "      <td>13.125916</td>\n",
       "      <td>7.166939</td>\n",
       "      <td>7.243982</td>\n",
       "      <td>1.259921</td>\n",
       "      <td>0.0</td>\n",
       "      <td>11.545503</td>\n",
       "      <td>1.587401</td>\n",
       "      <td>...</td>\n",
       "      <td>3</td>\n",
       "      <td>18</td>\n",
       "      <td>1.817121</td>\n",
       "      <td>0.0</td>\n",
       "      <td>1.442250</td>\n",
       "      <td>2.620741</td>\n",
       "      <td>6</td>\n",
       "      <td>0.0</td>\n",
       "      <td>2.223980</td>\n",
       "      <td>2.027401</td>\n",
       "    </tr>\n",
       "  </tbody>\n",
       "</table>\n",
       "<p>5 rows × 33 columns</p>\n",
       "</div>"
      ],
      "text/plain": [
       "   label       aon  daily_decr30  daily_decr90   rental30   rental90  \\\n",
       "1      1  8.929490     22.971610     22.973347  15.454616  15.454616   \n",
       "2      1  8.118041     11.181560     11.181560   9.655359   9.655359   \n",
       "3      1  6.223084      2.768873      2.768873   5.422267   5.422267   \n",
       "4      1  9.820117      5.320595      5.320595  10.319359  10.319359   \n",
       "5      1  8.281635     13.117984     13.125916   7.166939   7.243982   \n",
       "\n",
       "   last_rech_date_ma  last_rech_date_da  last_rech_amt_ma  cnt_ma_rech30  ...  \\\n",
       "1           2.714418                0.0         17.953584       1.000000  ...   \n",
       "2           1.442250                0.0         11.545503       1.000000  ...   \n",
       "3           3.448217                0.0          9.820117       0.000000  ...   \n",
       "4           1.587401                0.0         13.217256       1.912931  ...   \n",
       "5           1.259921                0.0         11.545503       1.587401  ...   \n",
       "\n",
       "   cnt_loans30  amnt_loans30  maxamnt_loans30  medianamnt_loans30  \\\n",
       "1            1            12         2.289428                 0.0   \n",
       "2            1             6         1.817121                 0.0   \n",
       "3            2            12         1.817121                 0.0   \n",
       "4            7            42         1.817121                 0.0   \n",
       "5            3            18         1.817121                 0.0   \n",
       "\n",
       "   cnt_loans90  amnt_loans90  maxamnt_loans90  medianamnt_loans90  payback30  \\\n",
       "1     1.000000      2.289428               12                 0.0   0.000000   \n",
       "2     1.000000      1.817121                6                 0.0   0.000000   \n",
       "3     1.259921      2.289428                6                 0.0   0.000000   \n",
       "4     1.912931      3.476027                6                 0.0   1.326352   \n",
       "5     1.442250      2.620741                6                 0.0   2.223980   \n",
       "\n",
       "   payback90  \n",
       "1   0.000000  \n",
       "2   0.000000  \n",
       "3   0.000000  \n",
       "4   1.326352  \n",
       "5   2.027401  \n",
       "\n",
       "[5 rows x 33 columns]"
      ]
     },
     "execution_count": 44,
     "metadata": {},
     "output_type": "execute_result"
    }
   ],
   "source": [
    "upsampled.head()"
   ]
  },
  {
   "cell_type": "code",
   "execution_count": 45,
   "metadata": {},
   "outputs": [
    {
     "data": {
      "text/plain": [
       "1    183415\n",
       "0    183415\n",
       "Name: label, dtype: int64"
      ]
     },
     "execution_count": 45,
     "metadata": {},
     "output_type": "execute_result"
    }
   ],
   "source": [
    "upsampled.label.value_counts()"
   ]
  },
  {
   "cell_type": "markdown",
   "metadata": {},
   "source": [
    "#### Splitting to input and output data"
   ]
  },
  {
   "cell_type": "code",
   "execution_count": 46,
   "metadata": {},
   "outputs": [
    {
     "data": {
      "text/html": [
       "<div>\n",
       "<style scoped>\n",
       "    .dataframe tbody tr th:only-of-type {\n",
       "        vertical-align: middle;\n",
       "    }\n",
       "\n",
       "    .dataframe tbody tr th {\n",
       "        vertical-align: top;\n",
       "    }\n",
       "\n",
       "    .dataframe thead th {\n",
       "        text-align: right;\n",
       "    }\n",
       "</style>\n",
       "<table border=\"1\" class=\"dataframe\">\n",
       "  <thead>\n",
       "    <tr style=\"text-align: right;\">\n",
       "      <th></th>\n",
       "      <th>aon</th>\n",
       "      <th>daily_decr30</th>\n",
       "      <th>daily_decr90</th>\n",
       "      <th>rental30</th>\n",
       "      <th>rental90</th>\n",
       "      <th>last_rech_date_ma</th>\n",
       "      <th>last_rech_date_da</th>\n",
       "      <th>last_rech_amt_ma</th>\n",
       "      <th>cnt_ma_rech30</th>\n",
       "      <th>fr_ma_rech30</th>\n",
       "      <th>...</th>\n",
       "      <th>cnt_loans30</th>\n",
       "      <th>amnt_loans30</th>\n",
       "      <th>maxamnt_loans30</th>\n",
       "      <th>medianamnt_loans30</th>\n",
       "      <th>cnt_loans90</th>\n",
       "      <th>amnt_loans90</th>\n",
       "      <th>maxamnt_loans90</th>\n",
       "      <th>medianamnt_loans90</th>\n",
       "      <th>payback30</th>\n",
       "      <th>payback90</th>\n",
       "    </tr>\n",
       "  </thead>\n",
       "  <tbody>\n",
       "    <tr>\n",
       "      <th>1</th>\n",
       "      <td>8.929490</td>\n",
       "      <td>22.971610</td>\n",
       "      <td>22.973347</td>\n",
       "      <td>15.454616</td>\n",
       "      <td>15.454616</td>\n",
       "      <td>2.714418</td>\n",
       "      <td>0.0</td>\n",
       "      <td>17.953584</td>\n",
       "      <td>1.000000</td>\n",
       "      <td>0.000000</td>\n",
       "      <td>...</td>\n",
       "      <td>1</td>\n",
       "      <td>12</td>\n",
       "      <td>2.289428</td>\n",
       "      <td>0.0</td>\n",
       "      <td>1.000000</td>\n",
       "      <td>2.289428</td>\n",
       "      <td>12</td>\n",
       "      <td>0.0</td>\n",
       "      <td>0.000000</td>\n",
       "      <td>0.000000</td>\n",
       "    </tr>\n",
       "    <tr>\n",
       "      <th>2</th>\n",
       "      <td>8.118041</td>\n",
       "      <td>11.181560</td>\n",
       "      <td>11.181560</td>\n",
       "      <td>9.655359</td>\n",
       "      <td>9.655359</td>\n",
       "      <td>1.442250</td>\n",
       "      <td>0.0</td>\n",
       "      <td>11.545503</td>\n",
       "      <td>1.000000</td>\n",
       "      <td>0.000000</td>\n",
       "      <td>...</td>\n",
       "      <td>1</td>\n",
       "      <td>6</td>\n",
       "      <td>1.817121</td>\n",
       "      <td>0.0</td>\n",
       "      <td>1.000000</td>\n",
       "      <td>1.817121</td>\n",
       "      <td>6</td>\n",
       "      <td>0.0</td>\n",
       "      <td>0.000000</td>\n",
       "      <td>0.000000</td>\n",
       "    </tr>\n",
       "    <tr>\n",
       "      <th>3</th>\n",
       "      <td>6.223084</td>\n",
       "      <td>2.768873</td>\n",
       "      <td>2.768873</td>\n",
       "      <td>5.422267</td>\n",
       "      <td>5.422267</td>\n",
       "      <td>3.448217</td>\n",
       "      <td>0.0</td>\n",
       "      <td>9.820117</td>\n",
       "      <td>0.000000</td>\n",
       "      <td>0.000000</td>\n",
       "      <td>...</td>\n",
       "      <td>2</td>\n",
       "      <td>12</td>\n",
       "      <td>1.817121</td>\n",
       "      <td>0.0</td>\n",
       "      <td>1.259921</td>\n",
       "      <td>2.289428</td>\n",
       "      <td>6</td>\n",
       "      <td>0.0</td>\n",
       "      <td>0.000000</td>\n",
       "      <td>0.000000</td>\n",
       "    </tr>\n",
       "    <tr>\n",
       "      <th>4</th>\n",
       "      <td>9.820117</td>\n",
       "      <td>5.320595</td>\n",
       "      <td>5.320595</td>\n",
       "      <td>10.319359</td>\n",
       "      <td>10.319359</td>\n",
       "      <td>1.587401</td>\n",
       "      <td>0.0</td>\n",
       "      <td>13.217256</td>\n",
       "      <td>1.912931</td>\n",
       "      <td>1.259921</td>\n",
       "      <td>...</td>\n",
       "      <td>7</td>\n",
       "      <td>42</td>\n",
       "      <td>1.817121</td>\n",
       "      <td>0.0</td>\n",
       "      <td>1.912931</td>\n",
       "      <td>3.476027</td>\n",
       "      <td>6</td>\n",
       "      <td>0.0</td>\n",
       "      <td>1.326352</td>\n",
       "      <td>1.326352</td>\n",
       "    </tr>\n",
       "    <tr>\n",
       "      <th>5</th>\n",
       "      <td>8.281635</td>\n",
       "      <td>13.117984</td>\n",
       "      <td>13.125916</td>\n",
       "      <td>7.166939</td>\n",
       "      <td>7.243982</td>\n",
       "      <td>1.259921</td>\n",
       "      <td>0.0</td>\n",
       "      <td>11.545503</td>\n",
       "      <td>1.587401</td>\n",
       "      <td>2.154435</td>\n",
       "      <td>...</td>\n",
       "      <td>3</td>\n",
       "      <td>18</td>\n",
       "      <td>1.817121</td>\n",
       "      <td>0.0</td>\n",
       "      <td>1.442250</td>\n",
       "      <td>2.620741</td>\n",
       "      <td>6</td>\n",
       "      <td>0.0</td>\n",
       "      <td>2.223980</td>\n",
       "      <td>2.027401</td>\n",
       "    </tr>\n",
       "  </tbody>\n",
       "</table>\n",
       "<p>5 rows × 32 columns</p>\n",
       "</div>"
      ],
      "text/plain": [
       "        aon  daily_decr30  daily_decr90   rental30   rental90  \\\n",
       "1  8.929490     22.971610     22.973347  15.454616  15.454616   \n",
       "2  8.118041     11.181560     11.181560   9.655359   9.655359   \n",
       "3  6.223084      2.768873      2.768873   5.422267   5.422267   \n",
       "4  9.820117      5.320595      5.320595  10.319359  10.319359   \n",
       "5  8.281635     13.117984     13.125916   7.166939   7.243982   \n",
       "\n",
       "   last_rech_date_ma  last_rech_date_da  last_rech_amt_ma  cnt_ma_rech30  \\\n",
       "1           2.714418                0.0         17.953584       1.000000   \n",
       "2           1.442250                0.0         11.545503       1.000000   \n",
       "3           3.448217                0.0          9.820117       0.000000   \n",
       "4           1.587401                0.0         13.217256       1.912931   \n",
       "5           1.259921                0.0         11.545503       1.587401   \n",
       "\n",
       "   fr_ma_rech30  ...  cnt_loans30  amnt_loans30  maxamnt_loans30  \\\n",
       "1      0.000000  ...            1            12         2.289428   \n",
       "2      0.000000  ...            1             6         1.817121   \n",
       "3      0.000000  ...            2            12         1.817121   \n",
       "4      1.259921  ...            7            42         1.817121   \n",
       "5      2.154435  ...            3            18         1.817121   \n",
       "\n",
       "   medianamnt_loans30  cnt_loans90  amnt_loans90  maxamnt_loans90  \\\n",
       "1                 0.0     1.000000      2.289428               12   \n",
       "2                 0.0     1.000000      1.817121                6   \n",
       "3                 0.0     1.259921      2.289428                6   \n",
       "4                 0.0     1.912931      3.476027                6   \n",
       "5                 0.0     1.442250      2.620741                6   \n",
       "\n",
       "   medianamnt_loans90  payback30  payback90  \n",
       "1                 0.0   0.000000   0.000000  \n",
       "2                 0.0   0.000000   0.000000  \n",
       "3                 0.0   0.000000   0.000000  \n",
       "4                 0.0   1.326352   1.326352  \n",
       "5                 0.0   2.223980   2.027401  \n",
       "\n",
       "[5 rows x 32 columns]"
      ]
     },
     "execution_count": 46,
     "metadata": {},
     "output_type": "execute_result"
    }
   ],
   "source": [
    "xdata=upsampled.drop(columns=['label'])\n",
    "xdata.head()"
   ]
  },
  {
   "cell_type": "code",
   "execution_count": 47,
   "metadata": {},
   "outputs": [],
   "source": [
    "from sklearn.preprocessing import StandardScaler\n",
    "std=StandardScaler()"
   ]
  },
  {
   "cell_type": "code",
   "execution_count": 48,
   "metadata": {},
   "outputs": [],
   "source": [
    "xdata=pd.DataFrame(columns=xdata.columns,\n",
    "                   data=std.fit_transform(xdata))"
   ]
  },
  {
   "cell_type": "code",
   "execution_count": 49,
   "metadata": {},
   "outputs": [
    {
     "data": {
      "text/html": [
       "<div>\n",
       "<style scoped>\n",
       "    .dataframe tbody tr th:only-of-type {\n",
       "        vertical-align: middle;\n",
       "    }\n",
       "\n",
       "    .dataframe tbody tr th {\n",
       "        vertical-align: top;\n",
       "    }\n",
       "\n",
       "    .dataframe thead th {\n",
       "        text-align: right;\n",
       "    }\n",
       "</style>\n",
       "<table border=\"1\" class=\"dataframe\">\n",
       "  <thead>\n",
       "    <tr style=\"text-align: right;\">\n",
       "      <th></th>\n",
       "      <th>aon</th>\n",
       "      <th>daily_decr30</th>\n",
       "      <th>daily_decr90</th>\n",
       "      <th>rental30</th>\n",
       "      <th>rental90</th>\n",
       "      <th>last_rech_date_ma</th>\n",
       "      <th>last_rech_date_da</th>\n",
       "      <th>last_rech_amt_ma</th>\n",
       "      <th>cnt_ma_rech30</th>\n",
       "      <th>fr_ma_rech30</th>\n",
       "      <th>...</th>\n",
       "      <th>cnt_loans30</th>\n",
       "      <th>amnt_loans30</th>\n",
       "      <th>maxamnt_loans30</th>\n",
       "      <th>medianamnt_loans30</th>\n",
       "      <th>cnt_loans90</th>\n",
       "      <th>amnt_loans90</th>\n",
       "      <th>maxamnt_loans90</th>\n",
       "      <th>medianamnt_loans90</th>\n",
       "      <th>payback30</th>\n",
       "      <th>payback90</th>\n",
       "    </tr>\n",
       "  </thead>\n",
       "  <tbody>\n",
       "    <tr>\n",
       "      <th>0</th>\n",
       "      <td>0.032264</td>\n",
       "      <td>1.532292</td>\n",
       "      <td>1.452664</td>\n",
       "      <td>0.806506</td>\n",
       "      <td>0.657256</td>\n",
       "      <td>0.137506</td>\n",
       "      <td>-0.080477</td>\n",
       "      <td>1.492577</td>\n",
       "      <td>-0.101924</td>\n",
       "      <td>-0.194178</td>\n",
       "      <td>...</td>\n",
       "      <td>-0.551251</td>\n",
       "      <td>-0.142098</td>\n",
       "      <td>0.108580</td>\n",
       "      <td>-0.239398</td>\n",
       "      <td>-0.344314</td>\n",
       "      <td>-0.086899</td>\n",
       "      <td>3.080808</td>\n",
       "      <td>-0.225534</td>\n",
       "      <td>-0.660934</td>\n",
       "      <td>-0.714916</td>\n",
       "    </tr>\n",
       "    <tr>\n",
       "      <th>1</th>\n",
       "      <td>-0.059659</td>\n",
       "      <td>0.171348</td>\n",
       "      <td>0.142488</td>\n",
       "      <td>-0.056123</td>\n",
       "      <td>-0.138540</td>\n",
       "      <td>-0.065108</td>\n",
       "      <td>-0.080477</td>\n",
       "      <td>0.357064</td>\n",
       "      <td>-0.101924</td>\n",
       "      <td>-0.194178</td>\n",
       "      <td>...</td>\n",
       "      <td>-0.551251</td>\n",
       "      <td>-0.550903</td>\n",
       "      <td>-0.079603</td>\n",
       "      <td>-0.239398</td>\n",
       "      <td>-0.344314</td>\n",
       "      <td>-0.711436</td>\n",
       "      <td>-0.283664</td>\n",
       "      <td>-0.225534</td>\n",
       "      <td>-0.660934</td>\n",
       "      <td>-0.714916</td>\n",
       "    </tr>\n",
       "    <tr>\n",
       "      <th>2</th>\n",
       "      <td>-0.274326</td>\n",
       "      <td>-0.799741</td>\n",
       "      <td>-0.792239</td>\n",
       "      <td>-0.685789</td>\n",
       "      <td>-0.719421</td>\n",
       "      <td>0.254375</td>\n",
       "      <td>-0.080477</td>\n",
       "      <td>0.051325</td>\n",
       "      <td>-1.483863</td>\n",
       "      <td>-0.194178</td>\n",
       "      <td>...</td>\n",
       "      <td>-0.089294</td>\n",
       "      <td>-0.142098</td>\n",
       "      <td>-0.079603</td>\n",
       "      <td>-0.239398</td>\n",
       "      <td>-0.081433</td>\n",
       "      <td>-0.086899</td>\n",
       "      <td>-0.283664</td>\n",
       "      <td>-0.225534</td>\n",
       "      <td>-0.660934</td>\n",
       "      <td>-0.714916</td>\n",
       "    </tr>\n",
       "    <tr>\n",
       "      <th>3</th>\n",
       "      <td>0.133157</td>\n",
       "      <td>-0.505192</td>\n",
       "      <td>-0.508719</td>\n",
       "      <td>0.042646</td>\n",
       "      <td>-0.047424</td>\n",
       "      <td>-0.041990</td>\n",
       "      <td>-0.080477</td>\n",
       "      <td>0.653299</td>\n",
       "      <td>1.159691</td>\n",
       "      <td>0.001192</td>\n",
       "      <td>...</td>\n",
       "      <td>2.220493</td>\n",
       "      <td>1.901927</td>\n",
       "      <td>-0.079603</td>\n",
       "      <td>-0.239398</td>\n",
       "      <td>0.579014</td>\n",
       "      <td>1.482152</td>\n",
       "      <td>-0.283664</td>\n",
       "      <td>-0.225534</td>\n",
       "      <td>0.762840</td>\n",
       "      <td>0.604615</td>\n",
       "    </tr>\n",
       "    <tr>\n",
       "      <th>4</th>\n",
       "      <td>-0.041127</td>\n",
       "      <td>0.394873</td>\n",
       "      <td>0.358524</td>\n",
       "      <td>-0.426271</td>\n",
       "      <td>-0.469439</td>\n",
       "      <td>-0.094147</td>\n",
       "      <td>-0.080477</td>\n",
       "      <td>0.357064</td>\n",
       "      <td>0.709828</td>\n",
       "      <td>0.139900</td>\n",
       "      <td>...</td>\n",
       "      <td>0.372664</td>\n",
       "      <td>0.266707</td>\n",
       "      <td>-0.079603</td>\n",
       "      <td>-0.239398</td>\n",
       "      <td>0.102972</td>\n",
       "      <td>0.351200</td>\n",
       "      <td>-0.283664</td>\n",
       "      <td>-0.225534</td>\n",
       "      <td>1.726399</td>\n",
       "      <td>1.302058</td>\n",
       "    </tr>\n",
       "  </tbody>\n",
       "</table>\n",
       "<p>5 rows × 32 columns</p>\n",
       "</div>"
      ],
      "text/plain": [
       "        aon  daily_decr30  daily_decr90  rental30  rental90  \\\n",
       "0  0.032264      1.532292      1.452664  0.806506  0.657256   \n",
       "1 -0.059659      0.171348      0.142488 -0.056123 -0.138540   \n",
       "2 -0.274326     -0.799741     -0.792239 -0.685789 -0.719421   \n",
       "3  0.133157     -0.505192     -0.508719  0.042646 -0.047424   \n",
       "4 -0.041127      0.394873      0.358524 -0.426271 -0.469439   \n",
       "\n",
       "   last_rech_date_ma  last_rech_date_da  last_rech_amt_ma  cnt_ma_rech30  \\\n",
       "0           0.137506          -0.080477          1.492577      -0.101924   \n",
       "1          -0.065108          -0.080477          0.357064      -0.101924   \n",
       "2           0.254375          -0.080477          0.051325      -1.483863   \n",
       "3          -0.041990          -0.080477          0.653299       1.159691   \n",
       "4          -0.094147          -0.080477          0.357064       0.709828   \n",
       "\n",
       "   fr_ma_rech30  ...  cnt_loans30  amnt_loans30  maxamnt_loans30  \\\n",
       "0     -0.194178  ...    -0.551251     -0.142098         0.108580   \n",
       "1     -0.194178  ...    -0.551251     -0.550903        -0.079603   \n",
       "2     -0.194178  ...    -0.089294     -0.142098        -0.079603   \n",
       "3      0.001192  ...     2.220493      1.901927        -0.079603   \n",
       "4      0.139900  ...     0.372664      0.266707        -0.079603   \n",
       "\n",
       "   medianamnt_loans30  cnt_loans90  amnt_loans90  maxamnt_loans90  \\\n",
       "0           -0.239398    -0.344314     -0.086899         3.080808   \n",
       "1           -0.239398    -0.344314     -0.711436        -0.283664   \n",
       "2           -0.239398    -0.081433     -0.086899        -0.283664   \n",
       "3           -0.239398     0.579014      1.482152        -0.283664   \n",
       "4           -0.239398     0.102972      0.351200        -0.283664   \n",
       "\n",
       "   medianamnt_loans90  payback30  payback90  \n",
       "0           -0.225534  -0.660934  -0.714916  \n",
       "1           -0.225534  -0.660934  -0.714916  \n",
       "2           -0.225534  -0.660934  -0.714916  \n",
       "3           -0.225534   0.762840   0.604615  \n",
       "4           -0.225534   1.726399   1.302058  \n",
       "\n",
       "[5 rows x 32 columns]"
      ]
     },
     "execution_count": 49,
     "metadata": {},
     "output_type": "execute_result"
    }
   ],
   "source": [
    "xdata.head()"
   ]
  },
  {
   "cell_type": "code",
   "execution_count": 50,
   "metadata": {},
   "outputs": [
    {
     "data": {
      "text/plain": [
       "1    1\n",
       "2    1\n",
       "3    1\n",
       "4    1\n",
       "5    1\n",
       "Name: label, dtype: int64"
      ]
     },
     "execution_count": 50,
     "metadata": {},
     "output_type": "execute_result"
    }
   ],
   "source": [
    "ydata=upsampled.label\n",
    "ydata.head()"
   ]
  },
  {
   "cell_type": "markdown",
   "metadata": {},
   "source": [
    "#### Finding best random_state value for train_test_split"
   ]
  },
  {
   "cell_type": "code",
   "execution_count": 51,
   "metadata": {},
   "outputs": [],
   "source": [
    "from sklearn.model_selection import train_test_split"
   ]
  },
  {
   "cell_type": "code",
   "execution_count": 52,
   "metadata": {},
   "outputs": [
    {
     "name": "stdout",
     "output_type": "stream",
     "text": [
      "Maximum accuracy= 0.9766740270243255 at random_state= 49\n"
     ]
    }
   ],
   "source": [
    "maxacc=0\n",
    "maxrs=0\n",
    "for rs in range(1,50):\n",
    "    xtrain,xtest,ytrain,ytest=train_test_split(xdata,ydata,test_size=.3,random_state=rs)\n",
    "    rmodel=RandomForestClassifier()\n",
    "    rmodel.fit(xtrain,ytrain)\n",
    "    ypred=rmodel.predict(xtest)\n",
    "    acc=accuracy_score(ytest,ypred)\n",
    "    \n",
    "    if acc>maxacc:\n",
    "        maxacc=acc\n",
    "        maxrs=rs\n",
    "        \n",
    "print(f'Maximum accuracy= {maxacc} at random_state= {maxrs}')"
   ]
  },
  {
   "cell_type": "code",
   "execution_count": 53,
   "metadata": {},
   "outputs": [],
   "source": [
    "xtrain,xtest,ytrain,ytest=train_test_split(xdata,ydata,test_size=.3,random_state=maxrs)"
   ]
  },
  {
   "cell_type": "code",
   "execution_count": 54,
   "metadata": {},
   "outputs": [
    {
     "data": {
      "text/plain": [
       "0.9763287262946506"
      ]
     },
     "execution_count": 54,
     "metadata": {},
     "output_type": "execute_result"
    }
   ],
   "source": [
    "rmodel=RandomForestClassifier()\n",
    "rmodel.fit(xtrain,ytrain)\n",
    "ypred=rmodel.predict(xtest)\n",
    "accuracy_score(ytest,ypred)"
   ]
  },
  {
   "cell_type": "code",
   "execution_count": 55,
   "metadata": {},
   "outputs": [],
   "source": [
    "from sklearn.tree import DecisionTreeClassifier"
   ]
  },
  {
   "cell_type": "markdown",
   "metadata": {},
   "source": [
    "#### Checking accuracy using different models"
   ]
  },
  {
   "cell_type": "code",
   "execution_count": 56,
   "metadata": {},
   "outputs": [
    {
     "data": {
      "text/plain": [
       "0.9499041336132087"
      ]
     },
     "execution_count": 56,
     "metadata": {},
     "output_type": "execute_result"
    }
   ],
   "source": [
    "tmodel=DecisionTreeClassifier()\n",
    "tmodel.fit(xtrain,ytrain)\n",
    "tpred=tmodel.predict(xtest)\n",
    "accuracy_score(ytest,tpred)"
   ]
  },
  {
   "cell_type": "code",
   "execution_count": 57,
   "metadata": {},
   "outputs": [],
   "source": [
    "from sklearn.svm import SVC\n",
    "from sklearn.neighbors import KNeighborsClassifier"
   ]
  },
  {
   "cell_type": "code",
   "execution_count": 58,
   "metadata": {},
   "outputs": [
    {
     "data": {
      "text/plain": [
       "0.7966542176666758"
      ]
     },
     "execution_count": 58,
     "metadata": {},
     "output_type": "execute_result"
    }
   ],
   "source": [
    "svc=SVC()\n",
    "svc.fit(xtrain,ytrain)\n",
    "ypred=svc.predict(xtest)\n",
    "accuracy_score(ytest,ypred)"
   ]
  },
  {
   "cell_type": "code",
   "execution_count": 59,
   "metadata": {},
   "outputs": [
    {
     "data": {
      "text/plain": [
       "0.8773909803814665"
      ]
     },
     "execution_count": 59,
     "metadata": {},
     "output_type": "execute_result"
    }
   ],
   "source": [
    "knn=KNeighborsClassifier()\n",
    "knn.fit(xtrain,ytrain)\n",
    "ypred=knn.predict(xtest)\n",
    "accuracy_score(ytest,ypred)"
   ]
  },
  {
   "cell_type": "code",
   "execution_count": null,
   "metadata": {},
   "outputs": [],
   "source": []
  },
  {
   "cell_type": "markdown",
   "metadata": {},
   "source": [
    "#### Cross_validation score of different models"
   ]
  },
  {
   "cell_type": "code",
   "execution_count": 60,
   "metadata": {},
   "outputs": [],
   "source": [
    "from sklearn.model_selection import cross_val_score"
   ]
  },
  {
   "cell_type": "code",
   "execution_count": 61,
   "metadata": {},
   "outputs": [
    {
     "data": {
      "text/plain": [
       "0.9787094839571463"
      ]
     },
     "execution_count": 61,
     "metadata": {},
     "output_type": "execute_result"
    }
   ],
   "source": [
    "s_rmodel=cross_val_score(rmodel,xdata,ydata,cv=5).mean()\n",
    "s_rmodel"
   ]
  },
  {
   "cell_type": "code",
   "execution_count": 62,
   "metadata": {},
   "outputs": [
    {
     "data": {
      "text/plain": [
       "0.8890085325627675"
      ]
     },
     "execution_count": 62,
     "metadata": {},
     "output_type": "execute_result"
    }
   ],
   "source": [
    "s_knn=cross_val_score(knn,xdata,ydata,cv=5).mean()\n",
    "s_knn"
   ]
  },
  {
   "cell_type": "code",
   "execution_count": 63,
   "metadata": {},
   "outputs": [
    {
     "data": {
      "text/plain": [
       "0.9554534798135375"
      ]
     },
     "execution_count": 63,
     "metadata": {},
     "output_type": "execute_result"
    }
   ],
   "source": [
    "t_tmodel=cross_val_score(tmodel,xdata,ydata,cv=5).mean()\n",
    "t_tmodel"
   ]
  },
  {
   "cell_type": "code",
   "execution_count": null,
   "metadata": {},
   "outputs": [],
   "source": []
  },
  {
   "cell_type": "code",
   "execution_count": null,
   "metadata": {},
   "outputs": [],
   "source": []
  },
  {
   "cell_type": "code",
   "execution_count": 64,
   "metadata": {},
   "outputs": [],
   "source": [
    "from sklearn.metrics import classification_report,f1_score"
   ]
  },
  {
   "cell_type": "code",
   "execution_count": 67,
   "metadata": {},
   "outputs": [
    {
     "name": "stdout",
     "output_type": "stream",
     "text": [
      "              precision    recall  f1-score   support\n",
      "\n",
      "           0       0.91      1.00      0.95     54977\n",
      "           1       1.00      0.90      0.95     55072\n",
      "\n",
      "    accuracy                           0.95    110049\n",
      "   macro avg       0.95      0.95      0.95    110049\n",
      "weighted avg       0.95      0.95      0.95    110049\n",
      "\n"
     ]
    }
   ],
   "source": [
    "print(classification_report(ytest,tpred))"
   ]
  },
  {
   "cell_type": "code",
   "execution_count": 68,
   "metadata": {},
   "outputs": [
    {
     "data": {
      "text/plain": [
       "0.9474937379163214"
      ]
     },
     "execution_count": 68,
     "metadata": {},
     "output_type": "execute_result"
    }
   ],
   "source": [
    "f1_score(ytest,tpred)"
   ]
  },
  {
   "cell_type": "code",
   "execution_count": null,
   "metadata": {},
   "outputs": [],
   "source": []
  },
  {
   "cell_type": "code",
   "execution_count": null,
   "metadata": {},
   "outputs": [],
   "source": []
  }
 ],
 "metadata": {
  "kernelspec": {
   "display_name": "Python 3",
   "language": "python",
   "name": "python3"
  },
  "language_info": {
   "codemirror_mode": {
    "name": "ipython",
    "version": 3
   },
   "file_extension": ".py",
   "mimetype": "text/x-python",
   "name": "python",
   "nbconvert_exporter": "python",
   "pygments_lexer": "ipython3",
   "version": "3.7.6"
  }
 },
 "nbformat": 4,
 "nbformat_minor": 4
}
